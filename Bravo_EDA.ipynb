{
  "nbformat": 4,
  "nbformat_minor": 0,
  "metadata": {
    "colab": {
      "name": "bravo_datasets.ipynb",
      "provenance": [],
      "collapsed_sections": [
        "XXDrkQrZK7zD",
        "B-12Je43goMg",
        "TwzxCMZti59H",
        "Bc18w67aMDC5",
        "nWJIoganMwEg",
        "E5B4KfjQS649",
        "qkgEBR1UXMfi",
        "dgPFGT7H9qkL",
        "qM40rLhNJY54",
        "WbMTIFjMJhZL",
        "GagaOf16JpS-"
      ],
      "include_colab_link": true
    },
    "kernelspec": {
      "display_name": "Python 3",
      "name": "python3"
    },
    "language_info": {
      "name": "python"
    }
  },
  "cells": [
    {
      "cell_type": "markdown",
      "metadata": {
        "id": "view-in-github",
        "colab_type": "text"
      },
      "source": [
        "<a href=\"https://colab.research.google.com/github/POS-Cross/Bravo-EDA/blob/main/Bravo_EDA.ipynb\" target=\"_parent\"><img src=\"https://colab.research.google.com/assets/colab-badge.svg\" alt=\"Open In Colab\"/></a>"
      ]
    },
    {
      "cell_type": "markdown",
      "metadata": {
        "id": "YQYmSCxzyUtz"
      },
      "source": [
        "# Bravo Supermartk Exploratory Data Analysis notebook\n",
        "\n",
        "---\n",
        "\n",
        "## Business Opportunity:\n",
        "\n",
        "---\n",
        "This project aims to develop a cross-selling recommander system that helps Bravo employees to offer a special cross-selling for their customers. The recommender system should predict the customers’ interests and recommend for them related products to buy as a package using Cross-selling marketing technique. Such products generally belong to different product categories but will be complementary. For example,  **“Eggs 30 Pcs”** with  **“Abu Eta Noodles 200G”**, or **“Al - Junaidi Milk Milk Long Life 1L”**.\n",
        "\n",
        "**Cross-selling product recommendation API** would help in:\n",
        "* Increases customer retention.\n",
        "* Increases average order value and lifetime value.\n",
        "* Maintaining market share.\n",
        "* Add a competitive advantage.\n",
        "* Attract more customers. \n",
        "\n",
        "\n",
        "---\n",
        "\n",
        "\n",
        "## Business Objectives\n",
        "* **BO-1:**  Enhancing the competitive position, maintaining and increasing the market share.\n",
        "* **BO-2:** Classify customers per selling quantities and work on 20/80 role.\n",
        "* **BO-3:** This system will decrease 75% of expiry date quantities.\n",
        "* **BO-4:** This system will increase the efficiency of cross-selling offers. \n",
        "* **BO-5:** Reducing lost applications with no more than 0.001%  following the initial release.\n",
        "* **BO-6:** Increase Bravo’s market share.\n",
        "* **BO-7:** Increase customer loyalty and satisfaction."
      ]
    },
    {
      "cell_type": "markdown",
      "metadata": {
        "id": "d7nHlOdgdaOe"
      },
      "source": [
        "# **Table Of Contents**\n",
        "\n",
        "---\n",
        "\n"
      ]
    },
    {
      "cell_type": "markdown",
      "metadata": {
        "colab_type": "toc",
        "id": "Gh1aZvIRzCBK"
      },
      "source": [
        ">[Bravo Supermartk Exploratory Data Analysis notebook](#scrollTo=YQYmSCxzyUtz)\n",
        "\n",
        ">>[Business Opportunity:](#scrollTo=YQYmSCxzyUtz)\n",
        "\n",
        ">>[Business Objectives](#scrollTo=YQYmSCxzyUtz)\n",
        "\n",
        ">[Table Of Contents](#scrollTo=d7nHlOdgdaOe)\n",
        "\n",
        ">>[Loading the Dataset](#scrollTo=igPijalv0jxQ)\n",
        "\n",
        ">>>[Mounting Google Drive locally](#scrollTo=5oKaekCDLYRV)\n",
        "\n",
        ">>>[Load the required libraries](#scrollTo=A6Yk2l4e0B48)\n",
        "\n",
        ">>>[Fields Description](#scrollTo=AcaPBsy_5Dd6)\n",
        "\n",
        ">>[Data Transformation and Cleansing](#scrollTo=M7O9W4db0o4-)\n",
        "\n",
        ">>>[Split the DateTime coulmn](#scrollTo=UXW4h1xbc4EZ)\n",
        "\n",
        ">>[Explore Data (First Look)](#scrollTo=2Ni__z_y_CzP)\n",
        "\n",
        ">>[Statistical Question:](#scrollTo=ousjVXQIK0av)\n",
        "\n",
        ">>>[Q1: How many customer Groups are there?](#scrollTo=XXDrkQrZK7zD)\n",
        "\n",
        ">>>[Q2: What is the percentage of each group?](#scrollTo=B-12Je43goMg)\n",
        "\n",
        ">>>[Q3: What are the monthly purchases for customers in group 1(has information on the system)?](#scrollTo=TwzxCMZti59H)\n",
        "\n",
        ">>>[Q4: What are the items count with promotion/ items without promotion?](#scrollTo=Bc18w67aMDC5)\n",
        "\n",
        ">>>[Q5: What are the Net Sales sum for items with promotion/ items without promotion in each bill?](#scrollTo=nWJIoganMwEg)\n",
        "\n",
        ">>>[Q6: What are the items per offer? / What are the Number of times the item was purchsed?](#scrollTo=E5B4KfjQS649)\n",
        "\n",
        ">>>[Q7: Is there any item that included in more than one offer?](#scrollTo=qkgEBR1UXMfi)\n",
        "\n",
        ">>>[Q8: What are the top relatead items (bought togther)?](#scrollTo=dgPFGT7H9qkL)\n",
        "\n",
        ">>>[Q9 :What are the related items bought by customers?](#scrollTo=qM40rLhNJY54)\n",
        "\n",
        ">>>[Q10 :What is the relation between item discount percentage and number of payments?](#scrollTo=WbMTIFjMJhZL)\n",
        "\n",
        ">>>[Q11: What are the frequent items for each customer in all orders?](#scrollTo=GagaOf16JpS-)\n",
        "\n"
      ]
    },
    {
      "cell_type": "markdown",
      "metadata": {
        "id": "NJZGTMPZb3M_"
      },
      "source": [
        "**Instructions**:  \n",
        "All cells (blocks) below are code cells and should be edited with extreme care. Lines starting with # are comments (not executed).  \n",
        "The next two cells should not be changed.  \n",
        "**Important**: Click the folder icon to the left to show the session (temporary) files, then click the G drive icon (top right in the left pane) and select Connect to Google Drive. You should see a folder named drive.   \n",
        "**Adjust parameters**: The easiest way is to edit the required parameters (4 items below) and run the whole script from the Runtime menu (run all).   \n",
        "**Note**: It is good practice to turn off the session (Runtime -> Manage Sessions -> Terminate) after you copy the file. The system will timeout after somtime of inactivity. There is no need to change compute type.\n"
      ]
    },
    {
      "cell_type": "markdown",
      "metadata": {
        "id": "igPijalv0jxQ"
      },
      "source": [
        "## Loading the Dataset"
      ]
    },
    {
      "cell_type": "markdown",
      "metadata": {
        "id": "5oKaekCDLYRV"
      },
      "source": [
        "### Mounting Google Drive locally"
      ]
    },
    {
      "cell_type": "markdown",
      "metadata": {
        "id": "A6Yk2l4e0B48"
      },
      "source": [
        "### 1. Load the required libraries"
      ]
    },
    {
      "cell_type": "code",
      "metadata": {
        "id": "fSQlQQeELs76"
      },
      "source": [
        "import numpy as np\n",
        "import pandas as pd\n",
        "import matplotlib.pyplot as plt\n",
        "import seaborn as sns\n",
        "CSV = \"http://ec2-3-128-207-73.us-east-2.compute.amazonaws.com:8002/uploads/uploads/2021/9/20/19e5badc-19f3-11ec-b8c6-09d958cd918a.csv\""
      ],
      "execution_count": 1,
      "outputs": []
    },
    {
      "cell_type": "markdown",
      "metadata": {
        "id": "AcaPBsy_5Dd6"
      },
      "source": [
        "### **Fields Description**\n",
        "---\n",
        "The `Query.csv` file contains data for **3481792** transactions on Bravo supermarket. Each row represents one trasaction (item bought). The columns describe different attributes about the transaction such Item Name, Customer Number, Barcode, Bill No, etc. \n",
        "\n",
        "**Notes:**\n",
        "\n",
        "\n",
        "*   **cBrutoValue** = **GrossRetailPrice** * **Quantity**\n",
        "*   **DiscountValue** is linked with **bHasPromotions** with **OfferNo**, example if **DiscountValue** = 0 then, **bHasPromotions** = 0 and **OfferNo**=0. \n",
        "if **DiscountValue**=2 then, **bHasPromotions**= -1, and **OfferNo** <>0 \n",
        "\n",
        "\n",
        "---\n",
        "\n",
        "**Discrption of the list of available variables :**\n",
        "\n",
        "* Columns\n",
        "* dTicketInternalKey\n",
        "* BravoNo\n",
        "* Invoice_Date\n",
        "* cBrutoValue\n",
        "* POS_NO\n",
        "* BillNo\n",
        "* dItemInternalKey\n",
        "* Barcode\n",
        "* ItemName\n",
        "* GrossRetailPrice\n",
        "* Quantity\n",
        "* TotalBeforeDisc\n",
        "* DiscValue\n",
        "* NetSales_IncVAT\n",
        "* Total_Net_InvoiceIncVAT\n",
        "* bHasPromotions\n",
        "* OfferNo\n",
        "* dVendorId\n",
        "* DeptNo\n",
        "* CashierNo\n",
        "* CustomerGroup\n",
        "* CustomerNo\n"
      ]
    },
    {
      "cell_type": "code",
      "metadata": {
        "colab": {
          "base_uri": "https://localhost:8080/",
          "height": 796
        },
        "id": "SX_J36njL8C0",
        "outputId": "fe19302d-e869-4633-f16e-bd0946b50644"
      },
      "source": [
        "df_items=pd.read_csv(CSV)\n",
        "df_items"
      ],
      "execution_count": 3,
      "outputs": [
        {
          "output_type": "execute_result",
          "data": {
            "text/html": [
              "<div>\n",
              "<style scoped>\n",
              "    .dataframe tbody tr th:only-of-type {\n",
              "        vertical-align: middle;\n",
              "    }\n",
              "\n",
              "    .dataframe tbody tr th {\n",
              "        vertical-align: top;\n",
              "    }\n",
              "\n",
              "    .dataframe thead th {\n",
              "        text-align: right;\n",
              "    }\n",
              "</style>\n",
              "<table border=\"1\" class=\"dataframe\">\n",
              "  <thead>\n",
              "    <tr style=\"text-align: right;\">\n",
              "      <th></th>\n",
              "      <th>dTicketInternalKey</th>\n",
              "      <th>BravoNo</th>\n",
              "      <th>Invoice_Date</th>\n",
              "      <th>cBrutoValue</th>\n",
              "      <th>POS_NO</th>\n",
              "      <th>BillNo</th>\n",
              "      <th>dItemInternalKey</th>\n",
              "      <th>Barcode</th>\n",
              "      <th>ItemName</th>\n",
              "      <th>GrossRetailPrice</th>\n",
              "      <th>Quantity</th>\n",
              "      <th>TotalBeforeDisc</th>\n",
              "      <th>DiscValue</th>\n",
              "      <th>NetSales_IncVAT</th>\n",
              "      <th>Total_Net_InvoiceIncVAT</th>\n",
              "      <th>bHasPromotions</th>\n",
              "      <th>OfferNo</th>\n",
              "      <th>dVendorId</th>\n",
              "      <th>DeptNo</th>\n",
              "      <th>CashierNo</th>\n",
              "      <th>CustomerGroup</th>\n",
              "      <th>CustomerNo</th>\n",
              "    </tr>\n",
              "  </thead>\n",
              "  <tbody>\n",
              "    <tr>\n",
              "      <th>0</th>\n",
              "      <td>30860300</td>\n",
              "      <td>1</td>\n",
              "      <td>01/09/2019 0:00:00</td>\n",
              "      <td>11.75</td>\n",
              "      <td>2</td>\n",
              "      <td>50200</td>\n",
              "      <td>142</td>\n",
              "      <td>121017</td>\n",
              "      <td>Tnuva Amek Cheese</td>\n",
              "      <td>48.0</td>\n",
              "      <td>0.24</td>\n",
              "      <td>11.75</td>\n",
              "      <td>1.95</td>\n",
              "      <td>9.80</td>\n",
              "      <td>18.8</td>\n",
              "      <td>-1</td>\n",
              "      <td>13369</td>\n",
              "      <td>103260.0</td>\n",
              "      <td>104</td>\n",
              "      <td>804</td>\n",
              "      <td>0</td>\n",
              "      <td>0</td>\n",
              "    </tr>\n",
              "    <tr>\n",
              "      <th>1</th>\n",
              "      <td>30860300</td>\n",
              "      <td>1</td>\n",
              "      <td>01/09/2019 0:00:00</td>\n",
              "      <td>6.00</td>\n",
              "      <td>2</td>\n",
              "      <td>50200</td>\n",
              "      <td>21718</td>\n",
              "      <td>252164</td>\n",
              "      <td>Healthy Bread Pcs</td>\n",
              "      <td>6.0</td>\n",
              "      <td>1.00</td>\n",
              "      <td>6.00</td>\n",
              "      <td>0.00</td>\n",
              "      <td>6.00</td>\n",
              "      <td>18.8</td>\n",
              "      <td>0</td>\n",
              "      <td>0</td>\n",
              "      <td>104540.0</td>\n",
              "      <td>107</td>\n",
              "      <td>804</td>\n",
              "      <td>0</td>\n",
              "      <td>0</td>\n",
              "    </tr>\n",
              "    <tr>\n",
              "      <th>2</th>\n",
              "      <td>30860300</td>\n",
              "      <td>1</td>\n",
              "      <td>01/09/2019 0:00:00</td>\n",
              "      <td>2.00</td>\n",
              "      <td>2</td>\n",
              "      <td>50200</td>\n",
              "      <td>75254</td>\n",
              "      <td>7622210622211</td>\n",
              "      <td>Cadbury 5Star 48G</td>\n",
              "      <td>2.0</td>\n",
              "      <td>1.00</td>\n",
              "      <td>2.00</td>\n",
              "      <td>0.00</td>\n",
              "      <td>2.00</td>\n",
              "      <td>18.8</td>\n",
              "      <td>0</td>\n",
              "      <td>0</td>\n",
              "      <td>106470.0</td>\n",
              "      <td>112</td>\n",
              "      <td>804</td>\n",
              "      <td>0</td>\n",
              "      <td>0</td>\n",
              "    </tr>\n",
              "    <tr>\n",
              "      <th>3</th>\n",
              "      <td>30860300</td>\n",
              "      <td>1</td>\n",
              "      <td>01/09/2019 0:00:00</td>\n",
              "      <td>1.00</td>\n",
              "      <td>2</td>\n",
              "      <td>50200</td>\n",
              "      <td>77885</td>\n",
              "      <td>6221007027751</td>\n",
              "      <td>Nesquik Biscuit Milk 56G</td>\n",
              "      <td>1.0</td>\n",
              "      <td>1.00</td>\n",
              "      <td>1.00</td>\n",
              "      <td>0.00</td>\n",
              "      <td>1.00</td>\n",
              "      <td>18.8</td>\n",
              "      <td>0</td>\n",
              "      <td>0</td>\n",
              "      <td>101520.0</td>\n",
              "      <td>112</td>\n",
              "      <td>804</td>\n",
              "      <td>0</td>\n",
              "      <td>0</td>\n",
              "    </tr>\n",
              "    <tr>\n",
              "      <th>4</th>\n",
              "      <td>30860301</td>\n",
              "      <td>1</td>\n",
              "      <td>01/09/2019 0:00:00</td>\n",
              "      <td>25.00</td>\n",
              "      <td>2</td>\n",
              "      <td>50201</td>\n",
              "      <td>1292</td>\n",
              "      <td>7622100919261</td>\n",
              "      <td>Marlboro Red</td>\n",
              "      <td>25.0</td>\n",
              "      <td>1.00</td>\n",
              "      <td>25.00</td>\n",
              "      <td>0.00</td>\n",
              "      <td>25.00</td>\n",
              "      <td>45.0</td>\n",
              "      <td>0</td>\n",
              "      <td>0</td>\n",
              "      <td>501024.0</td>\n",
              "      <td>108</td>\n",
              "      <td>804</td>\n",
              "      <td>0</td>\n",
              "      <td>0</td>\n",
              "    </tr>\n",
              "    <tr>\n",
              "      <th>...</th>\n",
              "      <td>...</td>\n",
              "      <td>...</td>\n",
              "      <td>...</td>\n",
              "      <td>...</td>\n",
              "      <td>...</td>\n",
              "      <td>...</td>\n",
              "      <td>...</td>\n",
              "      <td>...</td>\n",
              "      <td>...</td>\n",
              "      <td>...</td>\n",
              "      <td>...</td>\n",
              "      <td>...</td>\n",
              "      <td>...</td>\n",
              "      <td>...</td>\n",
              "      <td>...</td>\n",
              "      <td>...</td>\n",
              "      <td>...</td>\n",
              "      <td>...</td>\n",
              "      <td>...</td>\n",
              "      <td>...</td>\n",
              "      <td>...</td>\n",
              "      <td>...</td>\n",
              "    </tr>\n",
              "    <tr>\n",
              "      <th>3481787</th>\n",
              "      <td>31755806</td>\n",
              "      <td>1</td>\n",
              "      <td>14/12/2019 0:00:00</td>\n",
              "      <td>30.00</td>\n",
              "      <td>5</td>\n",
              "      <td>38929</td>\n",
              "      <td>63798</td>\n",
              "      <td>8906021075107</td>\n",
              "      <td>Peanut Butter Ruparels Red 510G</td>\n",
              "      <td>15.0</td>\n",
              "      <td>2.00</td>\n",
              "      <td>30.00</td>\n",
              "      <td>10.00</td>\n",
              "      <td>20.00</td>\n",
              "      <td>268.9</td>\n",
              "      <td>-1</td>\n",
              "      <td>15967</td>\n",
              "      <td>100405.0</td>\n",
              "      <td>112</td>\n",
              "      <td>847</td>\n",
              "      <td>1</td>\n",
              "      <td>628959</td>\n",
              "    </tr>\n",
              "    <tr>\n",
              "      <th>3481788</th>\n",
              "      <td>31755806</td>\n",
              "      <td>1</td>\n",
              "      <td>14/12/2019 0:00:00</td>\n",
              "      <td>20.00</td>\n",
              "      <td>5</td>\n",
              "      <td>38929</td>\n",
              "      <td>68245</td>\n",
              "      <td>5449000127631</td>\n",
              "      <td>Jericho Water 8*1.5L Case</td>\n",
              "      <td>10.0</td>\n",
              "      <td>2.00</td>\n",
              "      <td>20.00</td>\n",
              "      <td>3.00</td>\n",
              "      <td>17.00</td>\n",
              "      <td>268.9</td>\n",
              "      <td>-1</td>\n",
              "      <td>16124</td>\n",
              "      <td>101730.0</td>\n",
              "      <td>112</td>\n",
              "      <td>847</td>\n",
              "      <td>1</td>\n",
              "      <td>628959</td>\n",
              "    </tr>\n",
              "    <tr>\n",
              "      <th>3481789</th>\n",
              "      <td>31755806</td>\n",
              "      <td>1</td>\n",
              "      <td>14/12/2019 0:00:00</td>\n",
              "      <td>22.00</td>\n",
              "      <td>5</td>\n",
              "      <td>38929</td>\n",
              "      <td>69643</td>\n",
              "      <td>7290001996553</td>\n",
              "      <td>Alaa Al Deen Tissues 800G 2P</td>\n",
              "      <td>22.0</td>\n",
              "      <td>1.00</td>\n",
              "      <td>22.00</td>\n",
              "      <td>2.00</td>\n",
              "      <td>20.00</td>\n",
              "      <td>268.9</td>\n",
              "      <td>-1</td>\n",
              "      <td>14084</td>\n",
              "      <td>101590.0</td>\n",
              "      <td>108</td>\n",
              "      <td>847</td>\n",
              "      <td>1</td>\n",
              "      <td>628959</td>\n",
              "    </tr>\n",
              "    <tr>\n",
              "      <th>3481790</th>\n",
              "      <td>31755806</td>\n",
              "      <td>1</td>\n",
              "      <td>14/12/2019 0:00:00</td>\n",
              "      <td>40.00</td>\n",
              "      <td>5</td>\n",
              "      <td>38929</td>\n",
              "      <td>76574</td>\n",
              "      <td>6253504290055</td>\n",
              "      <td>Reema Toilet 32 Roll</td>\n",
              "      <td>40.0</td>\n",
              "      <td>1.00</td>\n",
              "      <td>40.00</td>\n",
              "      <td>8.00</td>\n",
              "      <td>32.00</td>\n",
              "      <td>268.9</td>\n",
              "      <td>-1</td>\n",
              "      <td>15482</td>\n",
              "      <td>101590.0</td>\n",
              "      <td>108</td>\n",
              "      <td>847</td>\n",
              "      <td>1</td>\n",
              "      <td>628959</td>\n",
              "    </tr>\n",
              "    <tr>\n",
              "      <th>3481791</th>\n",
              "      <td>31755806</td>\n",
              "      <td>1</td>\n",
              "      <td>14/12/2019 0:00:00</td>\n",
              "      <td>5.00</td>\n",
              "      <td>5</td>\n",
              "      <td>38929</td>\n",
              "      <td>77562</td>\n",
              "      <td>5449000278012</td>\n",
              "      <td>Cappy Pear Kiwi &amp; Cactus1.5L</td>\n",
              "      <td>5.0</td>\n",
              "      <td>1.00</td>\n",
              "      <td>5.00</td>\n",
              "      <td>1.33</td>\n",
              "      <td>3.67</td>\n",
              "      <td>268.9</td>\n",
              "      <td>-1</td>\n",
              "      <td>13269</td>\n",
              "      <td>101730.0</td>\n",
              "      <td>112</td>\n",
              "      <td>847</td>\n",
              "      <td>1</td>\n",
              "      <td>628959</td>\n",
              "    </tr>\n",
              "  </tbody>\n",
              "</table>\n",
              "<p>3481792 rows × 22 columns</p>\n",
              "</div>"
            ],
            "text/plain": [
              "         dTicketInternalKey  BravoNo  ... CustomerGroup  CustomerNo\n",
              "0                  30860300        1  ...             0           0\n",
              "1                  30860300        1  ...             0           0\n",
              "2                  30860300        1  ...             0           0\n",
              "3                  30860300        1  ...             0           0\n",
              "4                  30860301        1  ...             0           0\n",
              "...                     ...      ...  ...           ...         ...\n",
              "3481787            31755806        1  ...             1      628959\n",
              "3481788            31755806        1  ...             1      628959\n",
              "3481789            31755806        1  ...             1      628959\n",
              "3481790            31755806        1  ...             1      628959\n",
              "3481791            31755806        1  ...             1      628959\n",
              "\n",
              "[3481792 rows x 22 columns]"
            ]
          },
          "metadata": {},
          "execution_count": 3
        }
      ]
    },
    {
      "cell_type": "markdown",
      "metadata": {
        "id": "M7O9W4db0o4-"
      },
      "source": [
        "## Data Transformation and Cleansing\n",
        "\n",
        "\n",
        "\n"
      ]
    },
    {
      "cell_type": "markdown",
      "metadata": {
        "id": "_rF_8qPVxqsV"
      },
      "source": [
        "* **Check for null values**"
      ]
    },
    {
      "cell_type": "code",
      "metadata": {
        "colab": {
          "base_uri": "https://localhost:8080/"
        },
        "id": "mslobxhFNMv6",
        "outputId": "f1d5f106-f1a9-4a67-b3f0-549418b717a2"
      },
      "source": [
        "df_items.isnull().any()"
      ],
      "execution_count": null,
      "outputs": [
        {
          "output_type": "execute_result",
          "data": {
            "text/plain": [
              "dTicketInternalKey         False\n",
              "BravoNo                    False\n",
              "Invoice_Date               False\n",
              "cBrutoValue                False\n",
              "POS_NO                     False\n",
              "BillNo                     False\n",
              "dItemInternalKey           False\n",
              "Barcode                    False\n",
              "ItemName                   False\n",
              "GrossRetailPrice            True\n",
              "Quantity                   False\n",
              "TotalBeforeDisc            False\n",
              "DiscValue                  False\n",
              "NetSales_IncVAT            False\n",
              "Total_Net_InvoiceIncVAT    False\n",
              "bHasPromotions             False\n",
              "OfferNo                    False\n",
              "dVendorId                  False\n",
              "DeptNo                     False\n",
              "CashierNo                  False\n",
              "CustomerGroup              False\n",
              "CustomerNo                 False\n",
              "dtype: bool"
            ]
          },
          "metadata": {},
          "execution_count": 5
        }
      ]
    },
    {
      "cell_type": "markdown",
      "metadata": {
        "id": "zV4jrBL6sdkn"
      },
      "source": [
        "Only The field named **GrossRetailPrice** has **Null** values, let us explore the records containing null values."
      ]
    },
    {
      "cell_type": "code",
      "metadata": {
        "colab": {
          "base_uri": "https://localhost:8080/",
          "height": 215
        },
        "id": "KOlUcInDFmjb",
        "outputId": "c12b1dbc-c6f9-4a21-bb4f-579b91fc9cc3"
      },
      "source": [
        "df_items[df_items.GrossRetailPrice.isnull()]"
      ],
      "execution_count": null,
      "outputs": [
        {
          "output_type": "execute_result",
          "data": {
            "text/html": [
              "<div>\n",
              "<style scoped>\n",
              "    .dataframe tbody tr th:only-of-type {\n",
              "        vertical-align: middle;\n",
              "    }\n",
              "\n",
              "    .dataframe tbody tr th {\n",
              "        vertical-align: top;\n",
              "    }\n",
              "\n",
              "    .dataframe thead th {\n",
              "        text-align: right;\n",
              "    }\n",
              "</style>\n",
              "<table border=\"1\" class=\"dataframe\">\n",
              "  <thead>\n",
              "    <tr style=\"text-align: right;\">\n",
              "      <th></th>\n",
              "      <th>dTicketInternalKey</th>\n",
              "      <th>BravoNo</th>\n",
              "      <th>Invoice_Date</th>\n",
              "      <th>cBrutoValue</th>\n",
              "      <th>POS_NO</th>\n",
              "      <th>BillNo</th>\n",
              "      <th>dItemInternalKey</th>\n",
              "      <th>Barcode</th>\n",
              "      <th>ItemName</th>\n",
              "      <th>GrossRetailPrice</th>\n",
              "      <th>Quantity</th>\n",
              "      <th>TotalBeforeDisc</th>\n",
              "      <th>DiscValue</th>\n",
              "      <th>NetSales_IncVAT</th>\n",
              "      <th>Total_Net_InvoiceIncVAT</th>\n",
              "      <th>bHasPromotions</th>\n",
              "      <th>OfferNo</th>\n",
              "      <th>dVendorId</th>\n",
              "      <th>DeptNo</th>\n",
              "      <th>CashierNo</th>\n",
              "      <th>CustomerGroup</th>\n",
              "      <th>CustomerNo</th>\n",
              "    </tr>\n",
              "  </thead>\n",
              "  <tbody>\n",
              "    <tr>\n",
              "      <th>1106395</th>\n",
              "      <td>31172985</td>\n",
              "      <td>2</td>\n",
              "      <td>08/10/2019 0:00:00</td>\n",
              "      <td>4.99</td>\n",
              "      <td>1</td>\n",
              "      <td>86055</td>\n",
              "      <td>28355</td>\n",
              "      <td>9700192832519</td>\n",
              "      <td>Rejected</td>\n",
              "      <td>NaN</td>\n",
              "      <td>1.0</td>\n",
              "      <td>4.99</td>\n",
              "      <td>0.0</td>\n",
              "      <td>4.99</td>\n",
              "      <td>16.0</td>\n",
              "      <td>0</td>\n",
              "      <td>0</td>\n",
              "      <td>0.0</td>\n",
              "      <td>0</td>\n",
              "      <td>736</td>\n",
              "      <td>0</td>\n",
              "      <td>0</td>\n",
              "    </tr>\n",
              "    <tr>\n",
              "      <th>1921583</th>\n",
              "      <td>31375957</td>\n",
              "      <td>1</td>\n",
              "      <td>05/11/2019 0:00:00</td>\n",
              "      <td>19.99</td>\n",
              "      <td>7</td>\n",
              "      <td>35540</td>\n",
              "      <td>33738</td>\n",
              "      <td>9700477711362</td>\n",
              "      <td>Rejected</td>\n",
              "      <td>NaN</td>\n",
              "      <td>1.0</td>\n",
              "      <td>19.99</td>\n",
              "      <td>0.0</td>\n",
              "      <td>19.99</td>\n",
              "      <td>81.0</td>\n",
              "      <td>0</td>\n",
              "      <td>0</td>\n",
              "      <td>0.0</td>\n",
              "      <td>0</td>\n",
              "      <td>839</td>\n",
              "      <td>0</td>\n",
              "      <td>0</td>\n",
              "    </tr>\n",
              "    <tr>\n",
              "      <th>1923338</th>\n",
              "      <td>31376207</td>\n",
              "      <td>1</td>\n",
              "      <td>05/11/2019 0:00:00</td>\n",
              "      <td>19.99</td>\n",
              "      <td>7</td>\n",
              "      <td>35674</td>\n",
              "      <td>33738</td>\n",
              "      <td>9700477711362</td>\n",
              "      <td>Rejected</td>\n",
              "      <td>NaN</td>\n",
              "      <td>1.0</td>\n",
              "      <td>19.99</td>\n",
              "      <td>0.0</td>\n",
              "      <td>19.99</td>\n",
              "      <td>289.5</td>\n",
              "      <td>0</td>\n",
              "      <td>0</td>\n",
              "      <td>0.0</td>\n",
              "      <td>0</td>\n",
              "      <td>839</td>\n",
              "      <td>1</td>\n",
              "      <td>401844</td>\n",
              "    </tr>\n",
              "  </tbody>\n",
              "</table>\n",
              "</div>"
            ],
            "text/plain": [
              "         dTicketInternalKey  BravoNo  ... CustomerGroup  CustomerNo\n",
              "1106395            31172985        2  ...             0           0\n",
              "1921583            31375957        1  ...             0           0\n",
              "1923338            31376207        1  ...             1      401844\n",
              "\n",
              "[3 rows x 22 columns]"
            ]
          },
          "metadata": {},
          "execution_count": 6
        }
      ]
    },
    {
      "cell_type": "markdown",
      "metadata": {
        "id": "20X6Pfi_9yg6"
      },
      "source": [
        "The GrossRetailPrice has **NAN** values where **ItemName = Rejected**, the item is returned and not included in the Bill, so we will drop it from the data frame becuase it is not valid. The total number of rows (transactions) after dropping the **NAN** values is **3,481,789**"
      ]
    },
    {
      "cell_type": "code",
      "metadata": {
        "colab": {
          "base_uri": "https://localhost:8080/"
        },
        "id": "BspmmOHW-giW",
        "outputId": "9353db48-cc22-4bf0-c2a6-e6619e46d59e"
      },
      "source": [
        "df_clean= df_items.dropna()\n",
        "df_clean.shape[0]"
      ],
      "execution_count": null,
      "outputs": [
        {
          "output_type": "execute_result",
          "data": {
            "text/plain": [
              "3481789"
            ]
          },
          "metadata": {},
          "execution_count": 4
        }
      ]
    },
    {
      "cell_type": "markdown",
      "metadata": {
        "id": "8p9ZyhY2cvsK"
      },
      "source": [
        "**Check the data types**"
      ]
    },
    {
      "cell_type": "code",
      "metadata": {
        "colab": {
          "base_uri": "https://localhost:8080/"
        },
        "id": "DbKlR5tAcj8M",
        "outputId": "a3a24b7a-0907-4d1f-ffec-ead798c051f2"
      },
      "source": [
        "df_clean.dtypes"
      ],
      "execution_count": null,
      "outputs": [
        {
          "output_type": "execute_result",
          "data": {
            "text/plain": [
              "dTicketInternalKey           int64\n",
              "BravoNo                      int64\n",
              "Invoice_Date                object\n",
              "cBrutoValue                float64\n",
              "POS_NO                       int64\n",
              "BillNo                       int64\n",
              "dItemInternalKey             int64\n",
              "Barcode                      int64\n",
              "ItemName                    object\n",
              "GrossRetailPrice           float64\n",
              "Quantity                   float64\n",
              "TotalBeforeDisc            float64\n",
              "DiscValue                  float64\n",
              "NetSales_IncVAT            float64\n",
              "Total_Net_InvoiceIncVAT    float64\n",
              "bHasPromotions               int64\n",
              "OfferNo                      int64\n",
              "dVendorId                  float64\n",
              "DeptNo                       int64\n",
              "CashierNo                    int64\n",
              "CustomerGroup                int64\n",
              "CustomerNo                   int64\n",
              "dtype: object"
            ]
          },
          "metadata": {},
          "execution_count": 9
        }
      ]
    },
    {
      "cell_type": "markdown",
      "metadata": {
        "id": "UXW4h1xbc4EZ"
      },
      "source": [
        "### Split the DateTime coulmn\n",
        "\n",
        "\n",
        "---\n",
        "In this step, we are going to split the DateTime column into three columns [day, month, year] and add them to the data frame in order to achieve atomic clean data.\n",
        "\n"
      ]
    },
    {
      "cell_type": "code",
      "metadata": {
        "colab": {
          "base_uri": "https://localhost:8080/",
          "height": 807
        },
        "id": "faB7oDY2c6O3",
        "outputId": "a4c3cfdc-9c06-4068-b51a-f402c17cb383"
      },
      "source": [
        "def splitDay(value):\n",
        "  return int(value.split()[0].split(\"/\")[0])\n",
        "def splitMonth(value):\n",
        "  return int(value.split()[0].split(\"/\")[1])\n",
        "def splitYear(value):\n",
        "  return int(value.split()[0].split(\"/\")[2])   \n",
        "\n",
        "df_clean =df_clean.convert_dtypes()\n",
        "df_clean['day'] = df_clean.Invoice_Date.map(splitDay)\n",
        "df_clean['month'] =df_clean.Invoice_Date.map(splitMonth)\n",
        "df_clean['year'] = df_clean.Invoice_Date.map(splitYear)\n",
        "\n",
        "df_clean"
      ],
      "execution_count": null,
      "outputs": [
        {
          "output_type": "execute_result",
          "data": {
            "text/html": [
              "<div>\n",
              "<style scoped>\n",
              "    .dataframe tbody tr th:only-of-type {\n",
              "        vertical-align: middle;\n",
              "    }\n",
              "\n",
              "    .dataframe tbody tr th {\n",
              "        vertical-align: top;\n",
              "    }\n",
              "\n",
              "    .dataframe thead th {\n",
              "        text-align: right;\n",
              "    }\n",
              "</style>\n",
              "<table border=\"1\" class=\"dataframe\">\n",
              "  <thead>\n",
              "    <tr style=\"text-align: right;\">\n",
              "      <th></th>\n",
              "      <th>dTicketInternalKey</th>\n",
              "      <th>BravoNo</th>\n",
              "      <th>Invoice_Date</th>\n",
              "      <th>cBrutoValue</th>\n",
              "      <th>POS_NO</th>\n",
              "      <th>BillNo</th>\n",
              "      <th>dItemInternalKey</th>\n",
              "      <th>Barcode</th>\n",
              "      <th>ItemName</th>\n",
              "      <th>GrossRetailPrice</th>\n",
              "      <th>Quantity</th>\n",
              "      <th>TotalBeforeDisc</th>\n",
              "      <th>DiscValue</th>\n",
              "      <th>NetSales_IncVAT</th>\n",
              "      <th>Total_Net_InvoiceIncVAT</th>\n",
              "      <th>bHasPromotions</th>\n",
              "      <th>OfferNo</th>\n",
              "      <th>dVendorId</th>\n",
              "      <th>DeptNo</th>\n",
              "      <th>CashierNo</th>\n",
              "      <th>CustomerGroup</th>\n",
              "      <th>CustomerNo</th>\n",
              "      <th>day</th>\n",
              "      <th>month</th>\n",
              "      <th>year</th>\n",
              "    </tr>\n",
              "  </thead>\n",
              "  <tbody>\n",
              "    <tr>\n",
              "      <th>0</th>\n",
              "      <td>30860300</td>\n",
              "      <td>1</td>\n",
              "      <td>01/09/2019 0:00:00</td>\n",
              "      <td>11.75</td>\n",
              "      <td>2</td>\n",
              "      <td>50200</td>\n",
              "      <td>142</td>\n",
              "      <td>121017</td>\n",
              "      <td>Tnuva Amek Cheese</td>\n",
              "      <td>48.0</td>\n",
              "      <td>0.24</td>\n",
              "      <td>11.75</td>\n",
              "      <td>1.95</td>\n",
              "      <td>9.80</td>\n",
              "      <td>18.8</td>\n",
              "      <td>-1</td>\n",
              "      <td>13369</td>\n",
              "      <td>103260</td>\n",
              "      <td>104</td>\n",
              "      <td>804</td>\n",
              "      <td>0</td>\n",
              "      <td>0</td>\n",
              "      <td>1</td>\n",
              "      <td>9</td>\n",
              "      <td>2019</td>\n",
              "    </tr>\n",
              "    <tr>\n",
              "      <th>1</th>\n",
              "      <td>30860300</td>\n",
              "      <td>1</td>\n",
              "      <td>01/09/2019 0:00:00</td>\n",
              "      <td>6.00</td>\n",
              "      <td>2</td>\n",
              "      <td>50200</td>\n",
              "      <td>21718</td>\n",
              "      <td>252164</td>\n",
              "      <td>Healthy Bread Pcs</td>\n",
              "      <td>6.0</td>\n",
              "      <td>1.00</td>\n",
              "      <td>6.00</td>\n",
              "      <td>0.00</td>\n",
              "      <td>6.00</td>\n",
              "      <td>18.8</td>\n",
              "      <td>0</td>\n",
              "      <td>0</td>\n",
              "      <td>104540</td>\n",
              "      <td>107</td>\n",
              "      <td>804</td>\n",
              "      <td>0</td>\n",
              "      <td>0</td>\n",
              "      <td>1</td>\n",
              "      <td>9</td>\n",
              "      <td>2019</td>\n",
              "    </tr>\n",
              "    <tr>\n",
              "      <th>2</th>\n",
              "      <td>30860300</td>\n",
              "      <td>1</td>\n",
              "      <td>01/09/2019 0:00:00</td>\n",
              "      <td>2.00</td>\n",
              "      <td>2</td>\n",
              "      <td>50200</td>\n",
              "      <td>75254</td>\n",
              "      <td>7622210622211</td>\n",
              "      <td>Cadbury 5Star 48G</td>\n",
              "      <td>2.0</td>\n",
              "      <td>1.00</td>\n",
              "      <td>2.00</td>\n",
              "      <td>0.00</td>\n",
              "      <td>2.00</td>\n",
              "      <td>18.8</td>\n",
              "      <td>0</td>\n",
              "      <td>0</td>\n",
              "      <td>106470</td>\n",
              "      <td>112</td>\n",
              "      <td>804</td>\n",
              "      <td>0</td>\n",
              "      <td>0</td>\n",
              "      <td>1</td>\n",
              "      <td>9</td>\n",
              "      <td>2019</td>\n",
              "    </tr>\n",
              "    <tr>\n",
              "      <th>3</th>\n",
              "      <td>30860300</td>\n",
              "      <td>1</td>\n",
              "      <td>01/09/2019 0:00:00</td>\n",
              "      <td>1.00</td>\n",
              "      <td>2</td>\n",
              "      <td>50200</td>\n",
              "      <td>77885</td>\n",
              "      <td>6221007027751</td>\n",
              "      <td>Nesquik Biscuit Milk 56G</td>\n",
              "      <td>1.0</td>\n",
              "      <td>1.00</td>\n",
              "      <td>1.00</td>\n",
              "      <td>0.00</td>\n",
              "      <td>1.00</td>\n",
              "      <td>18.8</td>\n",
              "      <td>0</td>\n",
              "      <td>0</td>\n",
              "      <td>101520</td>\n",
              "      <td>112</td>\n",
              "      <td>804</td>\n",
              "      <td>0</td>\n",
              "      <td>0</td>\n",
              "      <td>1</td>\n",
              "      <td>9</td>\n",
              "      <td>2019</td>\n",
              "    </tr>\n",
              "    <tr>\n",
              "      <th>4</th>\n",
              "      <td>30860301</td>\n",
              "      <td>1</td>\n",
              "      <td>01/09/2019 0:00:00</td>\n",
              "      <td>25.00</td>\n",
              "      <td>2</td>\n",
              "      <td>50201</td>\n",
              "      <td>1292</td>\n",
              "      <td>7622100919261</td>\n",
              "      <td>Marlboro Red</td>\n",
              "      <td>25.0</td>\n",
              "      <td>1.00</td>\n",
              "      <td>25.00</td>\n",
              "      <td>0.00</td>\n",
              "      <td>25.00</td>\n",
              "      <td>45.0</td>\n",
              "      <td>0</td>\n",
              "      <td>0</td>\n",
              "      <td>501024</td>\n",
              "      <td>108</td>\n",
              "      <td>804</td>\n",
              "      <td>0</td>\n",
              "      <td>0</td>\n",
              "      <td>1</td>\n",
              "      <td>9</td>\n",
              "      <td>2019</td>\n",
              "    </tr>\n",
              "    <tr>\n",
              "      <th>...</th>\n",
              "      <td>...</td>\n",
              "      <td>...</td>\n",
              "      <td>...</td>\n",
              "      <td>...</td>\n",
              "      <td>...</td>\n",
              "      <td>...</td>\n",
              "      <td>...</td>\n",
              "      <td>...</td>\n",
              "      <td>...</td>\n",
              "      <td>...</td>\n",
              "      <td>...</td>\n",
              "      <td>...</td>\n",
              "      <td>...</td>\n",
              "      <td>...</td>\n",
              "      <td>...</td>\n",
              "      <td>...</td>\n",
              "      <td>...</td>\n",
              "      <td>...</td>\n",
              "      <td>...</td>\n",
              "      <td>...</td>\n",
              "      <td>...</td>\n",
              "      <td>...</td>\n",
              "      <td>...</td>\n",
              "      <td>...</td>\n",
              "      <td>...</td>\n",
              "    </tr>\n",
              "    <tr>\n",
              "      <th>3481787</th>\n",
              "      <td>31755806</td>\n",
              "      <td>1</td>\n",
              "      <td>14/12/2019 0:00:00</td>\n",
              "      <td>30.00</td>\n",
              "      <td>5</td>\n",
              "      <td>38929</td>\n",
              "      <td>63798</td>\n",
              "      <td>8906021075107</td>\n",
              "      <td>Peanut Butter Ruparels Red 510G</td>\n",
              "      <td>15.0</td>\n",
              "      <td>2.00</td>\n",
              "      <td>30.00</td>\n",
              "      <td>10.00</td>\n",
              "      <td>20.00</td>\n",
              "      <td>268.9</td>\n",
              "      <td>-1</td>\n",
              "      <td>15967</td>\n",
              "      <td>100405</td>\n",
              "      <td>112</td>\n",
              "      <td>847</td>\n",
              "      <td>1</td>\n",
              "      <td>628959</td>\n",
              "      <td>14</td>\n",
              "      <td>12</td>\n",
              "      <td>2019</td>\n",
              "    </tr>\n",
              "    <tr>\n",
              "      <th>3481788</th>\n",
              "      <td>31755806</td>\n",
              "      <td>1</td>\n",
              "      <td>14/12/2019 0:00:00</td>\n",
              "      <td>20.00</td>\n",
              "      <td>5</td>\n",
              "      <td>38929</td>\n",
              "      <td>68245</td>\n",
              "      <td>5449000127631</td>\n",
              "      <td>Jericho Water 8*1.5L Case</td>\n",
              "      <td>10.0</td>\n",
              "      <td>2.00</td>\n",
              "      <td>20.00</td>\n",
              "      <td>3.00</td>\n",
              "      <td>17.00</td>\n",
              "      <td>268.9</td>\n",
              "      <td>-1</td>\n",
              "      <td>16124</td>\n",
              "      <td>101730</td>\n",
              "      <td>112</td>\n",
              "      <td>847</td>\n",
              "      <td>1</td>\n",
              "      <td>628959</td>\n",
              "      <td>14</td>\n",
              "      <td>12</td>\n",
              "      <td>2019</td>\n",
              "    </tr>\n",
              "    <tr>\n",
              "      <th>3481789</th>\n",
              "      <td>31755806</td>\n",
              "      <td>1</td>\n",
              "      <td>14/12/2019 0:00:00</td>\n",
              "      <td>22.00</td>\n",
              "      <td>5</td>\n",
              "      <td>38929</td>\n",
              "      <td>69643</td>\n",
              "      <td>7290001996553</td>\n",
              "      <td>Alaa Al Deen Tissues 800G 2P</td>\n",
              "      <td>22.0</td>\n",
              "      <td>1.00</td>\n",
              "      <td>22.00</td>\n",
              "      <td>2.00</td>\n",
              "      <td>20.00</td>\n",
              "      <td>268.9</td>\n",
              "      <td>-1</td>\n",
              "      <td>14084</td>\n",
              "      <td>101590</td>\n",
              "      <td>108</td>\n",
              "      <td>847</td>\n",
              "      <td>1</td>\n",
              "      <td>628959</td>\n",
              "      <td>14</td>\n",
              "      <td>12</td>\n",
              "      <td>2019</td>\n",
              "    </tr>\n",
              "    <tr>\n",
              "      <th>3481790</th>\n",
              "      <td>31755806</td>\n",
              "      <td>1</td>\n",
              "      <td>14/12/2019 0:00:00</td>\n",
              "      <td>40.00</td>\n",
              "      <td>5</td>\n",
              "      <td>38929</td>\n",
              "      <td>76574</td>\n",
              "      <td>6253504290055</td>\n",
              "      <td>Reema Toilet 32 Roll</td>\n",
              "      <td>40.0</td>\n",
              "      <td>1.00</td>\n",
              "      <td>40.00</td>\n",
              "      <td>8.00</td>\n",
              "      <td>32.00</td>\n",
              "      <td>268.9</td>\n",
              "      <td>-1</td>\n",
              "      <td>15482</td>\n",
              "      <td>101590</td>\n",
              "      <td>108</td>\n",
              "      <td>847</td>\n",
              "      <td>1</td>\n",
              "      <td>628959</td>\n",
              "      <td>14</td>\n",
              "      <td>12</td>\n",
              "      <td>2019</td>\n",
              "    </tr>\n",
              "    <tr>\n",
              "      <th>3481791</th>\n",
              "      <td>31755806</td>\n",
              "      <td>1</td>\n",
              "      <td>14/12/2019 0:00:00</td>\n",
              "      <td>5.00</td>\n",
              "      <td>5</td>\n",
              "      <td>38929</td>\n",
              "      <td>77562</td>\n",
              "      <td>5449000278012</td>\n",
              "      <td>Cappy Pear Kiwi &amp; Cactus1.5L</td>\n",
              "      <td>5.0</td>\n",
              "      <td>1.00</td>\n",
              "      <td>5.00</td>\n",
              "      <td>1.33</td>\n",
              "      <td>3.67</td>\n",
              "      <td>268.9</td>\n",
              "      <td>-1</td>\n",
              "      <td>13269</td>\n",
              "      <td>101730</td>\n",
              "      <td>112</td>\n",
              "      <td>847</td>\n",
              "      <td>1</td>\n",
              "      <td>628959</td>\n",
              "      <td>14</td>\n",
              "      <td>12</td>\n",
              "      <td>2019</td>\n",
              "    </tr>\n",
              "  </tbody>\n",
              "</table>\n",
              "<p>3481789 rows × 25 columns</p>\n",
              "</div>"
            ],
            "text/plain": [
              "         dTicketInternalKey  BravoNo        Invoice_Date  ...  day  month  year\n",
              "0                  30860300        1  01/09/2019 0:00:00  ...    1      9  2019\n",
              "1                  30860300        1  01/09/2019 0:00:00  ...    1      9  2019\n",
              "2                  30860300        1  01/09/2019 0:00:00  ...    1      9  2019\n",
              "3                  30860300        1  01/09/2019 0:00:00  ...    1      9  2019\n",
              "4                  30860301        1  01/09/2019 0:00:00  ...    1      9  2019\n",
              "...                     ...      ...                 ...  ...  ...    ...   ...\n",
              "3481787            31755806        1  14/12/2019 0:00:00  ...   14     12  2019\n",
              "3481788            31755806        1  14/12/2019 0:00:00  ...   14     12  2019\n",
              "3481789            31755806        1  14/12/2019 0:00:00  ...   14     12  2019\n",
              "3481790            31755806        1  14/12/2019 0:00:00  ...   14     12  2019\n",
              "3481791            31755806        1  14/12/2019 0:00:00  ...   14     12  2019\n",
              "\n",
              "[3481789 rows x 25 columns]"
            ]
          },
          "metadata": {},
          "execution_count": 5
        }
      ]
    },
    {
      "cell_type": "markdown",
      "metadata": {
        "id": "2Ni__z_y_CzP"
      },
      "source": [
        "## Explore Data (First Look)\n",
        "---"
      ]
    },
    {
      "cell_type": "markdown",
      "metadata": {
        "id": "cr-z2XzwtQrt"
      },
      "source": [
        "Now the dataframe **df_clean** contains clean and atomic data.\n",
        "**`Summary`**: **dtypes: Int64(13), float64(7), int64(3), string(2), memory usage: 733.8 MB**. The total number of cloumns (features) is \n",
        " **25**, and the number of records is **3,481,789**.\n",
        "\n"
      ]
    },
    {
      "cell_type": "code",
      "metadata": {
        "colab": {
          "base_uri": "https://localhost:8080/"
        },
        "id": "7uuEnuXdtbPr",
        "outputId": "d22b3bab-5cb1-4a49-9d5b-de4cd1c30c2f"
      },
      "source": [
        "df_clean.info()"
      ],
      "execution_count": null,
      "outputs": [
        {
          "output_type": "stream",
          "name": "stdout",
          "text": [
            "<class 'pandas.core.frame.DataFrame'>\n",
            "Int64Index: 3481789 entries, 0 to 3481791\n",
            "Data columns (total 25 columns):\n",
            " #   Column                   Dtype  \n",
            "---  ------                   -----  \n",
            " 0   dTicketInternalKey       Int64  \n",
            " 1   BravoNo                  Int64  \n",
            " 2   Invoice_Date             string \n",
            " 3   cBrutoValue              float64\n",
            " 4   POS_NO                   Int64  \n",
            " 5   BillNo                   Int64  \n",
            " 6   dItemInternalKey         Int64  \n",
            " 7   Barcode                  Int64  \n",
            " 8   ItemName                 string \n",
            " 9   GrossRetailPrice         float64\n",
            " 10  Quantity                 float64\n",
            " 11  TotalBeforeDisc          float64\n",
            " 12  DiscValue                float64\n",
            " 13  NetSales_IncVAT          float64\n",
            " 14  Total_Net_InvoiceIncVAT  float64\n",
            " 15  bHasPromotions           Int64  \n",
            " 16  OfferNo                  Int64  \n",
            " 17  dVendorId                Int64  \n",
            " 18  DeptNo                   Int64  \n",
            " 19  CashierNo                Int64  \n",
            " 20  CustomerGroup            Int64  \n",
            " 21  CustomerNo               Int64  \n",
            " 22  day                      int64  \n",
            " 23  month                    int64  \n",
            " 24  year                     int64  \n",
            "dtypes: Int64(13), float64(7), int64(3), string(2)\n",
            "memory usage: 733.8 MB\n"
          ]
        }
      ]
    },
    {
      "cell_type": "markdown",
      "metadata": {
        "id": "Xq0EJ_Quyj2E"
      },
      "source": [
        "From the clean data frame, we will drop unimportant features. Those features are either a repeated data or not useful in the EDA at this stage."
      ]
    },
    {
      "cell_type": "code",
      "metadata": {
        "colab": {
          "base_uri": "https://localhost:8080/",
          "height": 797
        },
        "id": "5sgQ7bxUy04z",
        "outputId": "38dea263-fd3f-4431-9747-31e25824f23a"
      },
      "source": [
        "COLUMNS_TO_DROP=['dTicketInternalKey','Invoice_Date','Barcode', 'dVendorId' ,'cBrutoValue', 'POS_NO','Barcode', 'GrossRetailPrice' ,'Quantity' ,'dVendorId','DeptNo','CashierNo']\n",
        "df_transactions= df_clean.drop(columns=COLUMNS_TO_DROP, axis=1)\n",
        "df_transactions"
      ],
      "execution_count": null,
      "outputs": [
        {
          "output_type": "execute_result",
          "data": {
            "text/html": [
              "<div>\n",
              "<style scoped>\n",
              "    .dataframe tbody tr th:only-of-type {\n",
              "        vertical-align: middle;\n",
              "    }\n",
              "\n",
              "    .dataframe tbody tr th {\n",
              "        vertical-align: top;\n",
              "    }\n",
              "\n",
              "    .dataframe thead th {\n",
              "        text-align: right;\n",
              "    }\n",
              "</style>\n",
              "<table border=\"1\" class=\"dataframe\">\n",
              "  <thead>\n",
              "    <tr style=\"text-align: right;\">\n",
              "      <th></th>\n",
              "      <th>BravoNo</th>\n",
              "      <th>BillNo</th>\n",
              "      <th>dItemInternalKey</th>\n",
              "      <th>ItemName</th>\n",
              "      <th>TotalBeforeDisc</th>\n",
              "      <th>DiscValue</th>\n",
              "      <th>NetSales_IncVAT</th>\n",
              "      <th>Total_Net_InvoiceIncVAT</th>\n",
              "      <th>bHasPromotions</th>\n",
              "      <th>OfferNo</th>\n",
              "      <th>CustomerGroup</th>\n",
              "      <th>CustomerNo</th>\n",
              "      <th>day</th>\n",
              "      <th>month</th>\n",
              "      <th>year</th>\n",
              "    </tr>\n",
              "  </thead>\n",
              "  <tbody>\n",
              "    <tr>\n",
              "      <th>0</th>\n",
              "      <td>1</td>\n",
              "      <td>50200</td>\n",
              "      <td>142</td>\n",
              "      <td>Tnuva Amek Cheese</td>\n",
              "      <td>11.75</td>\n",
              "      <td>1.95</td>\n",
              "      <td>9.80</td>\n",
              "      <td>18.8</td>\n",
              "      <td>-1</td>\n",
              "      <td>13369</td>\n",
              "      <td>0</td>\n",
              "      <td>0</td>\n",
              "      <td>1</td>\n",
              "      <td>9</td>\n",
              "      <td>2019</td>\n",
              "    </tr>\n",
              "    <tr>\n",
              "      <th>1</th>\n",
              "      <td>1</td>\n",
              "      <td>50200</td>\n",
              "      <td>21718</td>\n",
              "      <td>Healthy Bread Pcs</td>\n",
              "      <td>6.00</td>\n",
              "      <td>0.00</td>\n",
              "      <td>6.00</td>\n",
              "      <td>18.8</td>\n",
              "      <td>0</td>\n",
              "      <td>0</td>\n",
              "      <td>0</td>\n",
              "      <td>0</td>\n",
              "      <td>1</td>\n",
              "      <td>9</td>\n",
              "      <td>2019</td>\n",
              "    </tr>\n",
              "    <tr>\n",
              "      <th>2</th>\n",
              "      <td>1</td>\n",
              "      <td>50200</td>\n",
              "      <td>75254</td>\n",
              "      <td>Cadbury 5Star 48G</td>\n",
              "      <td>2.00</td>\n",
              "      <td>0.00</td>\n",
              "      <td>2.00</td>\n",
              "      <td>18.8</td>\n",
              "      <td>0</td>\n",
              "      <td>0</td>\n",
              "      <td>0</td>\n",
              "      <td>0</td>\n",
              "      <td>1</td>\n",
              "      <td>9</td>\n",
              "      <td>2019</td>\n",
              "    </tr>\n",
              "    <tr>\n",
              "      <th>3</th>\n",
              "      <td>1</td>\n",
              "      <td>50200</td>\n",
              "      <td>77885</td>\n",
              "      <td>Nesquik Biscuit Milk 56G</td>\n",
              "      <td>1.00</td>\n",
              "      <td>0.00</td>\n",
              "      <td>1.00</td>\n",
              "      <td>18.8</td>\n",
              "      <td>0</td>\n",
              "      <td>0</td>\n",
              "      <td>0</td>\n",
              "      <td>0</td>\n",
              "      <td>1</td>\n",
              "      <td>9</td>\n",
              "      <td>2019</td>\n",
              "    </tr>\n",
              "    <tr>\n",
              "      <th>4</th>\n",
              "      <td>1</td>\n",
              "      <td>50201</td>\n",
              "      <td>1292</td>\n",
              "      <td>Marlboro Red</td>\n",
              "      <td>25.00</td>\n",
              "      <td>0.00</td>\n",
              "      <td>25.00</td>\n",
              "      <td>45.0</td>\n",
              "      <td>0</td>\n",
              "      <td>0</td>\n",
              "      <td>0</td>\n",
              "      <td>0</td>\n",
              "      <td>1</td>\n",
              "      <td>9</td>\n",
              "      <td>2019</td>\n",
              "    </tr>\n",
              "    <tr>\n",
              "      <th>...</th>\n",
              "      <td>...</td>\n",
              "      <td>...</td>\n",
              "      <td>...</td>\n",
              "      <td>...</td>\n",
              "      <td>...</td>\n",
              "      <td>...</td>\n",
              "      <td>...</td>\n",
              "      <td>...</td>\n",
              "      <td>...</td>\n",
              "      <td>...</td>\n",
              "      <td>...</td>\n",
              "      <td>...</td>\n",
              "      <td>...</td>\n",
              "      <td>...</td>\n",
              "      <td>...</td>\n",
              "    </tr>\n",
              "    <tr>\n",
              "      <th>3481787</th>\n",
              "      <td>1</td>\n",
              "      <td>38929</td>\n",
              "      <td>63798</td>\n",
              "      <td>Peanut Butter Ruparels Red 510G</td>\n",
              "      <td>30.00</td>\n",
              "      <td>10.00</td>\n",
              "      <td>20.00</td>\n",
              "      <td>268.9</td>\n",
              "      <td>-1</td>\n",
              "      <td>15967</td>\n",
              "      <td>1</td>\n",
              "      <td>628959</td>\n",
              "      <td>14</td>\n",
              "      <td>12</td>\n",
              "      <td>2019</td>\n",
              "    </tr>\n",
              "    <tr>\n",
              "      <th>3481788</th>\n",
              "      <td>1</td>\n",
              "      <td>38929</td>\n",
              "      <td>68245</td>\n",
              "      <td>Jericho Water 8*1.5L Case</td>\n",
              "      <td>20.00</td>\n",
              "      <td>3.00</td>\n",
              "      <td>17.00</td>\n",
              "      <td>268.9</td>\n",
              "      <td>-1</td>\n",
              "      <td>16124</td>\n",
              "      <td>1</td>\n",
              "      <td>628959</td>\n",
              "      <td>14</td>\n",
              "      <td>12</td>\n",
              "      <td>2019</td>\n",
              "    </tr>\n",
              "    <tr>\n",
              "      <th>3481789</th>\n",
              "      <td>1</td>\n",
              "      <td>38929</td>\n",
              "      <td>69643</td>\n",
              "      <td>Alaa Al Deen Tissues 800G 2P</td>\n",
              "      <td>22.00</td>\n",
              "      <td>2.00</td>\n",
              "      <td>20.00</td>\n",
              "      <td>268.9</td>\n",
              "      <td>-1</td>\n",
              "      <td>14084</td>\n",
              "      <td>1</td>\n",
              "      <td>628959</td>\n",
              "      <td>14</td>\n",
              "      <td>12</td>\n",
              "      <td>2019</td>\n",
              "    </tr>\n",
              "    <tr>\n",
              "      <th>3481790</th>\n",
              "      <td>1</td>\n",
              "      <td>38929</td>\n",
              "      <td>76574</td>\n",
              "      <td>Reema Toilet 32 Roll</td>\n",
              "      <td>40.00</td>\n",
              "      <td>8.00</td>\n",
              "      <td>32.00</td>\n",
              "      <td>268.9</td>\n",
              "      <td>-1</td>\n",
              "      <td>15482</td>\n",
              "      <td>1</td>\n",
              "      <td>628959</td>\n",
              "      <td>14</td>\n",
              "      <td>12</td>\n",
              "      <td>2019</td>\n",
              "    </tr>\n",
              "    <tr>\n",
              "      <th>3481791</th>\n",
              "      <td>1</td>\n",
              "      <td>38929</td>\n",
              "      <td>77562</td>\n",
              "      <td>Cappy Pear Kiwi &amp; Cactus1.5L</td>\n",
              "      <td>5.00</td>\n",
              "      <td>1.33</td>\n",
              "      <td>3.67</td>\n",
              "      <td>268.9</td>\n",
              "      <td>-1</td>\n",
              "      <td>13269</td>\n",
              "      <td>1</td>\n",
              "      <td>628959</td>\n",
              "      <td>14</td>\n",
              "      <td>12</td>\n",
              "      <td>2019</td>\n",
              "    </tr>\n",
              "  </tbody>\n",
              "</table>\n",
              "<p>3481789 rows × 15 columns</p>\n",
              "</div>"
            ],
            "text/plain": [
              "         BravoNo  BillNo  dItemInternalKey  ... day  month  year\n",
              "0              1   50200               142  ...   1      9  2019\n",
              "1              1   50200             21718  ...   1      9  2019\n",
              "2              1   50200             75254  ...   1      9  2019\n",
              "3              1   50200             77885  ...   1      9  2019\n",
              "4              1   50201              1292  ...   1      9  2019\n",
              "...          ...     ...               ...  ...  ..    ...   ...\n",
              "3481787        1   38929             63798  ...  14     12  2019\n",
              "3481788        1   38929             68245  ...  14     12  2019\n",
              "3481789        1   38929             69643  ...  14     12  2019\n",
              "3481790        1   38929             76574  ...  14     12  2019\n",
              "3481791        1   38929             77562  ...  14     12  2019\n",
              "\n",
              "[3481789 rows x 15 columns]"
            ]
          },
          "metadata": {},
          "execution_count": 116
        }
      ]
    },
    {
      "cell_type": "markdown",
      "metadata": {
        "id": "DvDGyNexAYTd"
      },
      "source": [
        "**Descriptive analysis**"
      ]
    },
    {
      "cell_type": "code",
      "metadata": {
        "colab": {
          "base_uri": "https://localhost:8080/",
          "height": 317
        },
        "id": "OgDqvUBTh-MR",
        "outputId": "57a4d8eb-c04a-4344-e8fc-ca03e24b3a93"
      },
      "source": [
        "df_transactions.describe()"
      ],
      "execution_count": null,
      "outputs": [
        {
          "output_type": "execute_result",
          "data": {
            "text/html": [
              "<div>\n",
              "<style scoped>\n",
              "    .dataframe tbody tr th:only-of-type {\n",
              "        vertical-align: middle;\n",
              "    }\n",
              "\n",
              "    .dataframe tbody tr th {\n",
              "        vertical-align: top;\n",
              "    }\n",
              "\n",
              "    .dataframe thead th {\n",
              "        text-align: right;\n",
              "    }\n",
              "</style>\n",
              "<table border=\"1\" class=\"dataframe\">\n",
              "  <thead>\n",
              "    <tr style=\"text-align: right;\">\n",
              "      <th></th>\n",
              "      <th>BravoNo</th>\n",
              "      <th>BillNo</th>\n",
              "      <th>dItemInternalKey</th>\n",
              "      <th>TotalBeforeDisc</th>\n",
              "      <th>DiscValue</th>\n",
              "      <th>Total_Net_InvoiceIncVAT</th>\n",
              "      <th>bHasPromotions</th>\n",
              "      <th>OfferNo</th>\n",
              "      <th>CustomerGroup</th>\n",
              "      <th>CustomerNo</th>\n",
              "      <th>day</th>\n",
              "      <th>month</th>\n",
              "      <th>year</th>\n",
              "    </tr>\n",
              "  </thead>\n",
              "  <tbody>\n",
              "    <tr>\n",
              "      <th>count</th>\n",
              "      <td>3.481789e+06</td>\n",
              "      <td>3.481789e+06</td>\n",
              "      <td>3.481789e+06</td>\n",
              "      <td>3.481789e+06</td>\n",
              "      <td>3.481789e+06</td>\n",
              "      <td>3.481789e+06</td>\n",
              "      <td>3.481789e+06</td>\n",
              "      <td>3.481789e+06</td>\n",
              "      <td>3.481789e+06</td>\n",
              "      <td>3.481789e+06</td>\n",
              "      <td>3.481789e+06</td>\n",
              "      <td>3.481789e+06</td>\n",
              "      <td>3481789.0</td>\n",
              "    </tr>\n",
              "    <tr>\n",
              "      <th>mean</th>\n",
              "      <td>3.624966e+00</td>\n",
              "      <td>4.801253e+04</td>\n",
              "      <td>4.487879e+04</td>\n",
              "      <td>1.309281e+01</td>\n",
              "      <td>1.339488e+00</td>\n",
              "      <td>1.751565e+02</td>\n",
              "      <td>-3.101187e-01</td>\n",
              "      <td>4.187299e+03</td>\n",
              "      <td>2.935948e-01</td>\n",
              "      <td>1.258388e+05</td>\n",
              "      <td>1.525688e+01</td>\n",
              "      <td>1.048031e+01</td>\n",
              "      <td>2019.0</td>\n",
              "    </tr>\n",
              "    <tr>\n",
              "      <th>std</th>\n",
              "      <td>2.748435e+00</td>\n",
              "      <td>3.086681e+04</td>\n",
              "      <td>2.735733e+04</td>\n",
              "      <td>1.785420e+01</td>\n",
              "      <td>3.694893e+00</td>\n",
              "      <td>2.116725e+02</td>\n",
              "      <td>4.625421e-01</td>\n",
              "      <td>6.428605e+03</td>\n",
              "      <td>4.554085e-01</td>\n",
              "      <td>2.085804e+05</td>\n",
              "      <td>8.988825e+00</td>\n",
              "      <td>1.107534e+00</td>\n",
              "      <td>0.0</td>\n",
              "    </tr>\n",
              "    <tr>\n",
              "      <th>min</th>\n",
              "      <td>1.000000e+00</td>\n",
              "      <td>1.000000e+00</td>\n",
              "      <td>1.000000e+00</td>\n",
              "      <td>-1.771000e+03</td>\n",
              "      <td>-5.079000e+01</td>\n",
              "      <td>-9.542000e+02</td>\n",
              "      <td>-1.000000e+00</td>\n",
              "      <td>0.000000e+00</td>\n",
              "      <td>0.000000e+00</td>\n",
              "      <td>0.000000e+00</td>\n",
              "      <td>1.000000e+00</td>\n",
              "      <td>9.000000e+00</td>\n",
              "      <td>2019.0</td>\n",
              "    </tr>\n",
              "    <tr>\n",
              "      <th>25%</th>\n",
              "      <td>1.000000e+00</td>\n",
              "      <td>2.111400e+04</td>\n",
              "      <td>1.437500e+04</td>\n",
              "      <td>4.000000e+00</td>\n",
              "      <td>0.000000e+00</td>\n",
              "      <td>3.595000e+01</td>\n",
              "      <td>-1.000000e+00</td>\n",
              "      <td>0.000000e+00</td>\n",
              "      <td>0.000000e+00</td>\n",
              "      <td>0.000000e+00</td>\n",
              "      <td>7.000000e+00</td>\n",
              "      <td>1.000000e+01</td>\n",
              "      <td>2019.0</td>\n",
              "    </tr>\n",
              "    <tr>\n",
              "      <th>50%</th>\n",
              "      <td>3.000000e+00</td>\n",
              "      <td>4.211000e+04</td>\n",
              "      <td>5.741600e+04</td>\n",
              "      <td>9.180000e+00</td>\n",
              "      <td>0.000000e+00</td>\n",
              "      <td>1.010000e+02</td>\n",
              "      <td>0.000000e+00</td>\n",
              "      <td>0.000000e+00</td>\n",
              "      <td>0.000000e+00</td>\n",
              "      <td>0.000000e+00</td>\n",
              "      <td>1.500000e+01</td>\n",
              "      <td>1.000000e+01</td>\n",
              "      <td>2019.0</td>\n",
              "    </tr>\n",
              "    <tr>\n",
              "      <th>75%</th>\n",
              "      <td>5.000000e+00</td>\n",
              "      <td>7.951300e+04</td>\n",
              "      <td>6.876300e+04</td>\n",
              "      <td>1.600000e+01</td>\n",
              "      <td>1.330000e+00</td>\n",
              "      <td>2.395000e+02</td>\n",
              "      <td>0.000000e+00</td>\n",
              "      <td>1.075100e+04</td>\n",
              "      <td>1.000000e+00</td>\n",
              "      <td>3.133950e+05</td>\n",
              "      <td>2.300000e+01</td>\n",
              "      <td>1.100000e+01</td>\n",
              "      <td>2019.0</td>\n",
              "    </tr>\n",
              "    <tr>\n",
              "      <th>max</th>\n",
              "      <td>1.000000e+01</td>\n",
              "      <td>9.999900e+04</td>\n",
              "      <td>7.832400e+04</td>\n",
              "      <td>2.500000e+03</td>\n",
              "      <td>6.120000e+02</td>\n",
              "      <td>3.183750e+03</td>\n",
              "      <td>0.000000e+00</td>\n",
              "      <td>1.634600e+04</td>\n",
              "      <td>1.000000e+00</td>\n",
              "      <td>4.353006e+06</td>\n",
              "      <td>3.100000e+01</td>\n",
              "      <td>1.200000e+01</td>\n",
              "      <td>2019.0</td>\n",
              "    </tr>\n",
              "  </tbody>\n",
              "</table>\n",
              "</div>"
            ],
            "text/plain": [
              "            BravoNo        BillNo  ...         month       year\n",
              "count  3.481789e+06  3.481789e+06  ...  3.481789e+06  3481789.0\n",
              "mean   3.624966e+00  4.801253e+04  ...  1.048031e+01     2019.0\n",
              "std    2.748435e+00  3.086681e+04  ...  1.107534e+00        0.0\n",
              "min    1.000000e+00  1.000000e+00  ...  9.000000e+00     2019.0\n",
              "25%    1.000000e+00  2.111400e+04  ...  1.000000e+01     2019.0\n",
              "50%    3.000000e+00  4.211000e+04  ...  1.000000e+01     2019.0\n",
              "75%    5.000000e+00  7.951300e+04  ...  1.100000e+01     2019.0\n",
              "max    1.000000e+01  9.999900e+04  ...  1.200000e+01     2019.0\n",
              "\n",
              "[8 rows x 13 columns]"
            ]
          },
          "metadata": {},
          "execution_count": 7
        }
      ]
    },
    {
      "cell_type": "markdown",
      "metadata": {
        "id": "pvHHckoqi8Iv"
      },
      "source": [
        "We notice that the minimum value is less than zero for **TotalBeforeDisc,\tDiscValue,\tTotal_Net_InvoiceIncVAT** so, we fetch data from the original data frame (clean) for records with **Quantity < 0**, and we found that there are **6989 rows** that have values less than zero. This leads us to the Question, ***What does Quantity less than zero mean?***"
      ]
    },
    {
      "cell_type": "code",
      "metadata": {
        "colab": {
          "base_uri": "https://localhost:8080/",
          "height": 729
        },
        "id": "KCWiLhQmiSoC",
        "outputId": "2db96dd2-1c16-427b-a143-8215da45a1df"
      },
      "source": [
        "df_clean[ df_clean.Quantity < 0]"
      ],
      "execution_count": null,
      "outputs": [
        {
          "output_type": "execute_result",
          "data": {
            "text/html": [
              "<div>\n",
              "<style scoped>\n",
              "    .dataframe tbody tr th:only-of-type {\n",
              "        vertical-align: middle;\n",
              "    }\n",
              "\n",
              "    .dataframe tbody tr th {\n",
              "        vertical-align: top;\n",
              "    }\n",
              "\n",
              "    .dataframe thead th {\n",
              "        text-align: right;\n",
              "    }\n",
              "</style>\n",
              "<table border=\"1\" class=\"dataframe\">\n",
              "  <thead>\n",
              "    <tr style=\"text-align: right;\">\n",
              "      <th></th>\n",
              "      <th>dTicketInternalKey</th>\n",
              "      <th>BravoNo</th>\n",
              "      <th>Invoice_Date</th>\n",
              "      <th>cBrutoValue</th>\n",
              "      <th>POS_NO</th>\n",
              "      <th>BillNo</th>\n",
              "      <th>dItemInternalKey</th>\n",
              "      <th>Barcode</th>\n",
              "      <th>ItemName</th>\n",
              "      <th>GrossRetailPrice</th>\n",
              "      <th>Quantity</th>\n",
              "      <th>TotalBeforeDisc</th>\n",
              "      <th>DiscValue</th>\n",
              "      <th>NetSales_IncVAT</th>\n",
              "      <th>Total_Net_InvoiceIncVAT</th>\n",
              "      <th>bHasPromotions</th>\n",
              "      <th>OfferNo</th>\n",
              "      <th>dVendorId</th>\n",
              "      <th>DeptNo</th>\n",
              "      <th>CashierNo</th>\n",
              "      <th>CustomerGroup</th>\n",
              "      <th>CustomerNo</th>\n",
              "      <th>day</th>\n",
              "      <th>month</th>\n",
              "      <th>year</th>\n",
              "    </tr>\n",
              "  </thead>\n",
              "  <tbody>\n",
              "    <tr>\n",
              "      <th>109</th>\n",
              "      <td>30860336</td>\n",
              "      <td>1</td>\n",
              "      <td>01/09/2019 0:00:00</td>\n",
              "      <td>-15.00</td>\n",
              "      <td>2</td>\n",
              "      <td>50236</td>\n",
              "      <td>1164</td>\n",
              "      <td>24000104582</td>\n",
              "      <td>Delmonte Sweet Corn 410G</td>\n",
              "      <td>5.0</td>\n",
              "      <td>-3.0</td>\n",
              "      <td>-15.00</td>\n",
              "      <td>0.0</td>\n",
              "      <td>-15.00</td>\n",
              "      <td>-5.00</td>\n",
              "      <td>0</td>\n",
              "      <td>0</td>\n",
              "      <td>106470</td>\n",
              "      <td>105</td>\n",
              "      <td>804</td>\n",
              "      <td>0</td>\n",
              "      <td>0</td>\n",
              "      <td>1</td>\n",
              "      <td>9</td>\n",
              "      <td>2019</td>\n",
              "    </tr>\n",
              "    <tr>\n",
              "      <th>587</th>\n",
              "      <td>30860520</td>\n",
              "      <td>1</td>\n",
              "      <td>01/09/2019 0:00:00</td>\n",
              "      <td>-24.00</td>\n",
              "      <td>2</td>\n",
              "      <td>50302</td>\n",
              "      <td>62607</td>\n",
              "      <td>199474</td>\n",
              "      <td>Roastery 24 Nis</td>\n",
              "      <td>24.0</td>\n",
              "      <td>-1.0</td>\n",
              "      <td>-24.00</td>\n",
              "      <td>0.0</td>\n",
              "      <td>-24.00</td>\n",
              "      <td>-24.00</td>\n",
              "      <td>0</td>\n",
              "      <td>0</td>\n",
              "      <td>100460</td>\n",
              "      <td>100</td>\n",
              "      <td>804</td>\n",
              "      <td>0</td>\n",
              "      <td>0</td>\n",
              "      <td>1</td>\n",
              "      <td>9</td>\n",
              "      <td>2019</td>\n",
              "    </tr>\n",
              "    <tr>\n",
              "      <th>2352</th>\n",
              "      <td>30861003</td>\n",
              "      <td>1</td>\n",
              "      <td>01/09/2019 0:00:00</td>\n",
              "      <td>-2.50</td>\n",
              "      <td>3</td>\n",
              "      <td>76125</td>\n",
              "      <td>22247</td>\n",
              "      <td>7290004125455</td>\n",
              "      <td>Shemenit 200G</td>\n",
              "      <td>2.5</td>\n",
              "      <td>-1.0</td>\n",
              "      <td>-2.50</td>\n",
              "      <td>0.0</td>\n",
              "      <td>-2.50</td>\n",
              "      <td>1.50</td>\n",
              "      <td>0</td>\n",
              "      <td>0</td>\n",
              "      <td>103260</td>\n",
              "      <td>103</td>\n",
              "      <td>814</td>\n",
              "      <td>0</td>\n",
              "      <td>0</td>\n",
              "      <td>1</td>\n",
              "      <td>9</td>\n",
              "      <td>2019</td>\n",
              "    </tr>\n",
              "    <tr>\n",
              "      <th>2356</th>\n",
              "      <td>30861004</td>\n",
              "      <td>1</td>\n",
              "      <td>01/09/2019 0:00:00</td>\n",
              "      <td>-74.00</td>\n",
              "      <td>3</td>\n",
              "      <td>76306</td>\n",
              "      <td>45733</td>\n",
              "      <td>8906076274043</td>\n",
              "      <td>Al Walimeh Arabi Rice 10K</td>\n",
              "      <td>74.0</td>\n",
              "      <td>-1.0</td>\n",
              "      <td>-74.00</td>\n",
              "      <td>0.0</td>\n",
              "      <td>-74.00</td>\n",
              "      <td>-38.00</td>\n",
              "      <td>0</td>\n",
              "      <td>0</td>\n",
              "      <td>102730</td>\n",
              "      <td>105</td>\n",
              "      <td>814</td>\n",
              "      <td>0</td>\n",
              "      <td>0</td>\n",
              "      <td>1</td>\n",
              "      <td>9</td>\n",
              "      <td>2019</td>\n",
              "    </tr>\n",
              "    <tr>\n",
              "      <th>2357</th>\n",
              "      <td>30861004</td>\n",
              "      <td>1</td>\n",
              "      <td>01/09/2019 0:00:00</td>\n",
              "      <td>-32.00</td>\n",
              "      <td>3</td>\n",
              "      <td>76306</td>\n",
              "      <td>77593</td>\n",
              "      <td>6281003103057</td>\n",
              "      <td>Mazola Sunflower Oil 3.5L</td>\n",
              "      <td>32.0</td>\n",
              "      <td>-1.0</td>\n",
              "      <td>-32.00</td>\n",
              "      <td>0.0</td>\n",
              "      <td>-32.00</td>\n",
              "      <td>-38.00</td>\n",
              "      <td>0</td>\n",
              "      <td>0</td>\n",
              "      <td>102550</td>\n",
              "      <td>105</td>\n",
              "      <td>814</td>\n",
              "      <td>0</td>\n",
              "      <td>0</td>\n",
              "      <td>1</td>\n",
              "      <td>9</td>\n",
              "      <td>2019</td>\n",
              "    </tr>\n",
              "    <tr>\n",
              "      <th>...</th>\n",
              "      <td>...</td>\n",
              "      <td>...</td>\n",
              "      <td>...</td>\n",
              "      <td>...</td>\n",
              "      <td>...</td>\n",
              "      <td>...</td>\n",
              "      <td>...</td>\n",
              "      <td>...</td>\n",
              "      <td>...</td>\n",
              "      <td>...</td>\n",
              "      <td>...</td>\n",
              "      <td>...</td>\n",
              "      <td>...</td>\n",
              "      <td>...</td>\n",
              "      <td>...</td>\n",
              "      <td>...</td>\n",
              "      <td>...</td>\n",
              "      <td>...</td>\n",
              "      <td>...</td>\n",
              "      <td>...</td>\n",
              "      <td>...</td>\n",
              "      <td>...</td>\n",
              "      <td>...</td>\n",
              "      <td>...</td>\n",
              "      <td>...</td>\n",
              "    </tr>\n",
              "    <tr>\n",
              "      <th>3476702</th>\n",
              "      <td>31754991</td>\n",
              "      <td>1</td>\n",
              "      <td>14/12/2019 0:00:00</td>\n",
              "      <td>-12.00</td>\n",
              "      <td>3</td>\n",
              "      <td>24466</td>\n",
              "      <td>74427</td>\n",
              "      <td>6253802331115</td>\n",
              "      <td>Dates Diafy 0.5K</td>\n",
              "      <td>12.0</td>\n",
              "      <td>-1.0</td>\n",
              "      <td>-12.00</td>\n",
              "      <td>0.0</td>\n",
              "      <td>-12.00</td>\n",
              "      <td>-6.00</td>\n",
              "      <td>0</td>\n",
              "      <td>0</td>\n",
              "      <td>106670</td>\n",
              "      <td>111</td>\n",
              "      <td>839</td>\n",
              "      <td>0</td>\n",
              "      <td>0</td>\n",
              "      <td>14</td>\n",
              "      <td>12</td>\n",
              "      <td>2019</td>\n",
              "    </tr>\n",
              "    <tr>\n",
              "      <th>3476778</th>\n",
              "      <td>31755014</td>\n",
              "      <td>1</td>\n",
              "      <td>14/12/2019 0:00:00</td>\n",
              "      <td>-2.00</td>\n",
              "      <td>3</td>\n",
              "      <td>24354</td>\n",
              "      <td>61929</td>\n",
              "      <td>6251036019625</td>\n",
              "      <td>Mr Chips Crocodilechips 30G</td>\n",
              "      <td>1.0</td>\n",
              "      <td>-2.0</td>\n",
              "      <td>-2.00</td>\n",
              "      <td>0.0</td>\n",
              "      <td>-2.00</td>\n",
              "      <td>-2.00</td>\n",
              "      <td>0</td>\n",
              "      <td>0</td>\n",
              "      <td>101580</td>\n",
              "      <td>112</td>\n",
              "      <td>839</td>\n",
              "      <td>0</td>\n",
              "      <td>0</td>\n",
              "      <td>14</td>\n",
              "      <td>12</td>\n",
              "      <td>2019</td>\n",
              "    </tr>\n",
              "    <tr>\n",
              "      <th>3479433</th>\n",
              "      <td>31755648</td>\n",
              "      <td>1</td>\n",
              "      <td>14/12/2019 0:00:00</td>\n",
              "      <td>-18.00</td>\n",
              "      <td>7</td>\n",
              "      <td>45563</td>\n",
              "      <td>58947</td>\n",
              "      <td>8006746001211</td>\n",
              "      <td>Cotton Sticks In Rectangular Box 400</td>\n",
              "      <td>9.0</td>\n",
              "      <td>-1.0</td>\n",
              "      <td>-18.00</td>\n",
              "      <td>0.0</td>\n",
              "      <td>-18.00</td>\n",
              "      <td>-18.00</td>\n",
              "      <td>0</td>\n",
              "      <td>0</td>\n",
              "      <td>102120</td>\n",
              "      <td>109</td>\n",
              "      <td>835</td>\n",
              "      <td>0</td>\n",
              "      <td>0</td>\n",
              "      <td>14</td>\n",
              "      <td>12</td>\n",
              "      <td>2019</td>\n",
              "    </tr>\n",
              "    <tr>\n",
              "      <th>3479593</th>\n",
              "      <td>31755661</td>\n",
              "      <td>1</td>\n",
              "      <td>14/12/2019 0:00:00</td>\n",
              "      <td>-22.00</td>\n",
              "      <td>2</td>\n",
              "      <td>1266</td>\n",
              "      <td>77747</td>\n",
              "      <td>7290113319417</td>\n",
              "      <td>Water Bottel Sport 650 Ml Mix</td>\n",
              "      <td>22.0</td>\n",
              "      <td>-1.0</td>\n",
              "      <td>-22.00</td>\n",
              "      <td>0.0</td>\n",
              "      <td>-22.00</td>\n",
              "      <td>39.15</td>\n",
              "      <td>0</td>\n",
              "      <td>0</td>\n",
              "      <td>103290</td>\n",
              "      <td>108</td>\n",
              "      <td>814</td>\n",
              "      <td>1</td>\n",
              "      <td>433005</td>\n",
              "      <td>14</td>\n",
              "      <td>12</td>\n",
              "      <td>2019</td>\n",
              "    </tr>\n",
              "    <tr>\n",
              "      <th>3479603</th>\n",
              "      <td>31755663</td>\n",
              "      <td>1</td>\n",
              "      <td>14/12/2019 0:00:00</td>\n",
              "      <td>-1.42</td>\n",
              "      <td>2</td>\n",
              "      <td>1502</td>\n",
              "      <td>10998</td>\n",
              "      <td>5900862018562</td>\n",
              "      <td>Lion Chocolate 42G</td>\n",
              "      <td>3.0</td>\n",
              "      <td>-1.0</td>\n",
              "      <td>-1.42</td>\n",
              "      <td>0.0</td>\n",
              "      <td>-1.42</td>\n",
              "      <td>-1.42</td>\n",
              "      <td>0</td>\n",
              "      <td>0</td>\n",
              "      <td>103970</td>\n",
              "      <td>112</td>\n",
              "      <td>830</td>\n",
              "      <td>1</td>\n",
              "      <td>433005</td>\n",
              "      <td>14</td>\n",
              "      <td>12</td>\n",
              "      <td>2019</td>\n",
              "    </tr>\n",
              "  </tbody>\n",
              "</table>\n",
              "<p>6989 rows × 25 columns</p>\n",
              "</div>"
            ],
            "text/plain": [
              "         dTicketInternalKey  BravoNo        Invoice_Date  ...  day  month  year\n",
              "109                30860336        1  01/09/2019 0:00:00  ...    1      9  2019\n",
              "587                30860520        1  01/09/2019 0:00:00  ...    1      9  2019\n",
              "2352               30861003        1  01/09/2019 0:00:00  ...    1      9  2019\n",
              "2356               30861004        1  01/09/2019 0:00:00  ...    1      9  2019\n",
              "2357               30861004        1  01/09/2019 0:00:00  ...    1      9  2019\n",
              "...                     ...      ...                 ...  ...  ...    ...   ...\n",
              "3476702            31754991        1  14/12/2019 0:00:00  ...   14     12  2019\n",
              "3476778            31755014        1  14/12/2019 0:00:00  ...   14     12  2019\n",
              "3479433            31755648        1  14/12/2019 0:00:00  ...   14     12  2019\n",
              "3479593            31755661        1  14/12/2019 0:00:00  ...   14     12  2019\n",
              "3479603            31755663        1  14/12/2019 0:00:00  ...   14     12  2019\n",
              "\n",
              "[6989 rows x 25 columns]"
            ]
          },
          "metadata": {},
          "execution_count": 8
        }
      ]
    },
    {
      "cell_type": "markdown",
      "metadata": {
        "id": "9KUv_gWxkhaM"
      },
      "source": [
        "**Data Cleaning for minus values** In this stage, we will drop data with values less than zero from the aforementioned fields that contain minus values."
      ]
    },
    {
      "cell_type": "code",
      "metadata": {
        "colab": {
          "base_uri": "https://localhost:8080/",
          "height": 797
        },
        "id": "OANGqZWbkuM6",
        "outputId": "7a4f198f-3a1e-4049-fd33-aa43a5c14482"
      },
      "source": [
        "# Get names of indexes for which column Total_Net_InvoiceIncVAT has value less than 0\n",
        "indexNames = df_transactions.loc[(df_transactions['Total_Net_InvoiceIncVAT']<0) | (df_transactions['TotalBeforeDisc']< 0) | (df_transactions['DiscValue'] < 0)].index\n",
        "\n",
        "# Delete these row indexes from dataFrame\n",
        "df_transactions.drop(indexNames , inplace=True )\n",
        "df_transactions"
      ],
      "execution_count": null,
      "outputs": [
        {
          "output_type": "execute_result",
          "data": {
            "text/html": [
              "<div>\n",
              "<style scoped>\n",
              "    .dataframe tbody tr th:only-of-type {\n",
              "        vertical-align: middle;\n",
              "    }\n",
              "\n",
              "    .dataframe tbody tr th {\n",
              "        vertical-align: top;\n",
              "    }\n",
              "\n",
              "    .dataframe thead th {\n",
              "        text-align: right;\n",
              "    }\n",
              "</style>\n",
              "<table border=\"1\" class=\"dataframe\">\n",
              "  <thead>\n",
              "    <tr style=\"text-align: right;\">\n",
              "      <th></th>\n",
              "      <th>BravoNo</th>\n",
              "      <th>BillNo</th>\n",
              "      <th>dItemInternalKey</th>\n",
              "      <th>ItemName</th>\n",
              "      <th>TotalBeforeDisc</th>\n",
              "      <th>DiscValue</th>\n",
              "      <th>NetSales_IncVAT</th>\n",
              "      <th>Total_Net_InvoiceIncVAT</th>\n",
              "      <th>bHasPromotions</th>\n",
              "      <th>OfferNo</th>\n",
              "      <th>CustomerGroup</th>\n",
              "      <th>CustomerNo</th>\n",
              "      <th>day</th>\n",
              "      <th>month</th>\n",
              "      <th>year</th>\n",
              "    </tr>\n",
              "  </thead>\n",
              "  <tbody>\n",
              "    <tr>\n",
              "      <th>0</th>\n",
              "      <td>1</td>\n",
              "      <td>50200</td>\n",
              "      <td>142</td>\n",
              "      <td>Tnuva Amek Cheese</td>\n",
              "      <td>11.75</td>\n",
              "      <td>1.95</td>\n",
              "      <td>9.80</td>\n",
              "      <td>18.8</td>\n",
              "      <td>-1</td>\n",
              "      <td>13369</td>\n",
              "      <td>0</td>\n",
              "      <td>0</td>\n",
              "      <td>1</td>\n",
              "      <td>9</td>\n",
              "      <td>2019</td>\n",
              "    </tr>\n",
              "    <tr>\n",
              "      <th>1</th>\n",
              "      <td>1</td>\n",
              "      <td>50200</td>\n",
              "      <td>21718</td>\n",
              "      <td>Healthy Bread Pcs</td>\n",
              "      <td>6.00</td>\n",
              "      <td>0.00</td>\n",
              "      <td>6.00</td>\n",
              "      <td>18.8</td>\n",
              "      <td>0</td>\n",
              "      <td>0</td>\n",
              "      <td>0</td>\n",
              "      <td>0</td>\n",
              "      <td>1</td>\n",
              "      <td>9</td>\n",
              "      <td>2019</td>\n",
              "    </tr>\n",
              "    <tr>\n",
              "      <th>2</th>\n",
              "      <td>1</td>\n",
              "      <td>50200</td>\n",
              "      <td>75254</td>\n",
              "      <td>Cadbury 5Star 48G</td>\n",
              "      <td>2.00</td>\n",
              "      <td>0.00</td>\n",
              "      <td>2.00</td>\n",
              "      <td>18.8</td>\n",
              "      <td>0</td>\n",
              "      <td>0</td>\n",
              "      <td>0</td>\n",
              "      <td>0</td>\n",
              "      <td>1</td>\n",
              "      <td>9</td>\n",
              "      <td>2019</td>\n",
              "    </tr>\n",
              "    <tr>\n",
              "      <th>3</th>\n",
              "      <td>1</td>\n",
              "      <td>50200</td>\n",
              "      <td>77885</td>\n",
              "      <td>Nesquik Biscuit Milk 56G</td>\n",
              "      <td>1.00</td>\n",
              "      <td>0.00</td>\n",
              "      <td>1.00</td>\n",
              "      <td>18.8</td>\n",
              "      <td>0</td>\n",
              "      <td>0</td>\n",
              "      <td>0</td>\n",
              "      <td>0</td>\n",
              "      <td>1</td>\n",
              "      <td>9</td>\n",
              "      <td>2019</td>\n",
              "    </tr>\n",
              "    <tr>\n",
              "      <th>4</th>\n",
              "      <td>1</td>\n",
              "      <td>50201</td>\n",
              "      <td>1292</td>\n",
              "      <td>Marlboro Red</td>\n",
              "      <td>25.00</td>\n",
              "      <td>0.00</td>\n",
              "      <td>25.00</td>\n",
              "      <td>45.0</td>\n",
              "      <td>0</td>\n",
              "      <td>0</td>\n",
              "      <td>0</td>\n",
              "      <td>0</td>\n",
              "      <td>1</td>\n",
              "      <td>9</td>\n",
              "      <td>2019</td>\n",
              "    </tr>\n",
              "    <tr>\n",
              "      <th>...</th>\n",
              "      <td>...</td>\n",
              "      <td>...</td>\n",
              "      <td>...</td>\n",
              "      <td>...</td>\n",
              "      <td>...</td>\n",
              "      <td>...</td>\n",
              "      <td>...</td>\n",
              "      <td>...</td>\n",
              "      <td>...</td>\n",
              "      <td>...</td>\n",
              "      <td>...</td>\n",
              "      <td>...</td>\n",
              "      <td>...</td>\n",
              "      <td>...</td>\n",
              "      <td>...</td>\n",
              "    </tr>\n",
              "    <tr>\n",
              "      <th>3481787</th>\n",
              "      <td>1</td>\n",
              "      <td>38929</td>\n",
              "      <td>63798</td>\n",
              "      <td>Peanut Butter Ruparels Red 510G</td>\n",
              "      <td>30.00</td>\n",
              "      <td>10.00</td>\n",
              "      <td>20.00</td>\n",
              "      <td>268.9</td>\n",
              "      <td>-1</td>\n",
              "      <td>15967</td>\n",
              "      <td>1</td>\n",
              "      <td>628959</td>\n",
              "      <td>14</td>\n",
              "      <td>12</td>\n",
              "      <td>2019</td>\n",
              "    </tr>\n",
              "    <tr>\n",
              "      <th>3481788</th>\n",
              "      <td>1</td>\n",
              "      <td>38929</td>\n",
              "      <td>68245</td>\n",
              "      <td>Jericho Water 8*1.5L Case</td>\n",
              "      <td>20.00</td>\n",
              "      <td>3.00</td>\n",
              "      <td>17.00</td>\n",
              "      <td>268.9</td>\n",
              "      <td>-1</td>\n",
              "      <td>16124</td>\n",
              "      <td>1</td>\n",
              "      <td>628959</td>\n",
              "      <td>14</td>\n",
              "      <td>12</td>\n",
              "      <td>2019</td>\n",
              "    </tr>\n",
              "    <tr>\n",
              "      <th>3481789</th>\n",
              "      <td>1</td>\n",
              "      <td>38929</td>\n",
              "      <td>69643</td>\n",
              "      <td>Alaa Al Deen Tissues 800G 2P</td>\n",
              "      <td>22.00</td>\n",
              "      <td>2.00</td>\n",
              "      <td>20.00</td>\n",
              "      <td>268.9</td>\n",
              "      <td>-1</td>\n",
              "      <td>14084</td>\n",
              "      <td>1</td>\n",
              "      <td>628959</td>\n",
              "      <td>14</td>\n",
              "      <td>12</td>\n",
              "      <td>2019</td>\n",
              "    </tr>\n",
              "    <tr>\n",
              "      <th>3481790</th>\n",
              "      <td>1</td>\n",
              "      <td>38929</td>\n",
              "      <td>76574</td>\n",
              "      <td>Reema Toilet 32 Roll</td>\n",
              "      <td>40.00</td>\n",
              "      <td>8.00</td>\n",
              "      <td>32.00</td>\n",
              "      <td>268.9</td>\n",
              "      <td>-1</td>\n",
              "      <td>15482</td>\n",
              "      <td>1</td>\n",
              "      <td>628959</td>\n",
              "      <td>14</td>\n",
              "      <td>12</td>\n",
              "      <td>2019</td>\n",
              "    </tr>\n",
              "    <tr>\n",
              "      <th>3481791</th>\n",
              "      <td>1</td>\n",
              "      <td>38929</td>\n",
              "      <td>77562</td>\n",
              "      <td>Cappy Pear Kiwi &amp; Cactus1.5L</td>\n",
              "      <td>5.00</td>\n",
              "      <td>1.33</td>\n",
              "      <td>3.67</td>\n",
              "      <td>268.9</td>\n",
              "      <td>-1</td>\n",
              "      <td>13269</td>\n",
              "      <td>1</td>\n",
              "      <td>628959</td>\n",
              "      <td>14</td>\n",
              "      <td>12</td>\n",
              "      <td>2019</td>\n",
              "    </tr>\n",
              "  </tbody>\n",
              "</table>\n",
              "<p>3473320 rows × 15 columns</p>\n",
              "</div>"
            ],
            "text/plain": [
              "         BravoNo  BillNo  dItemInternalKey  ... day  month  year\n",
              "0              1   50200               142  ...   1      9  2019\n",
              "1              1   50200             21718  ...   1      9  2019\n",
              "2              1   50200             75254  ...   1      9  2019\n",
              "3              1   50200             77885  ...   1      9  2019\n",
              "4              1   50201              1292  ...   1      9  2019\n",
              "...          ...     ...               ...  ...  ..    ...   ...\n",
              "3481787        1   38929             63798  ...  14     12  2019\n",
              "3481788        1   38929             68245  ...  14     12  2019\n",
              "3481789        1   38929             69643  ...  14     12  2019\n",
              "3481790        1   38929             76574  ...  14     12  2019\n",
              "3481791        1   38929             77562  ...  14     12  2019\n",
              "\n",
              "[3473320 rows x 15 columns]"
            ]
          },
          "metadata": {},
          "execution_count": 117
        }
      ]
    },
    {
      "cell_type": "code",
      "metadata": {
        "colab": {
          "base_uri": "https://localhost:8080/",
          "height": 317
        },
        "id": "q44hemRbnK9v",
        "outputId": "39abe473-7898-4f91-9622-5904f75df6f2"
      },
      "source": [
        "df_transactions.describe()"
      ],
      "execution_count": null,
      "outputs": [
        {
          "output_type": "execute_result",
          "data": {
            "text/html": [
              "<div>\n",
              "<style scoped>\n",
              "    .dataframe tbody tr th:only-of-type {\n",
              "        vertical-align: middle;\n",
              "    }\n",
              "\n",
              "    .dataframe tbody tr th {\n",
              "        vertical-align: top;\n",
              "    }\n",
              "\n",
              "    .dataframe thead th {\n",
              "        text-align: right;\n",
              "    }\n",
              "</style>\n",
              "<table border=\"1\" class=\"dataframe\">\n",
              "  <thead>\n",
              "    <tr style=\"text-align: right;\">\n",
              "      <th></th>\n",
              "      <th>BravoNo</th>\n",
              "      <th>BillNo</th>\n",
              "      <th>dItemInternalKey</th>\n",
              "      <th>TotalBeforeDisc</th>\n",
              "      <th>DiscValue</th>\n",
              "      <th>Total_Net_InvoiceIncVAT</th>\n",
              "      <th>bHasPromotions</th>\n",
              "      <th>OfferNo</th>\n",
              "      <th>CustomerGroup</th>\n",
              "      <th>CustomerNo</th>\n",
              "      <th>day</th>\n",
              "      <th>month</th>\n",
              "      <th>year</th>\n",
              "    </tr>\n",
              "  </thead>\n",
              "  <tbody>\n",
              "    <tr>\n",
              "      <th>count</th>\n",
              "      <td>3.473320e+06</td>\n",
              "      <td>3.473320e+06</td>\n",
              "      <td>3.473320e+06</td>\n",
              "      <td>3.473320e+06</td>\n",
              "      <td>3.473320e+06</td>\n",
              "      <td>3.473320e+06</td>\n",
              "      <td>3.473320e+06</td>\n",
              "      <td>3.473320e+06</td>\n",
              "      <td>3.473320e+06</td>\n",
              "      <td>3.473320e+06</td>\n",
              "      <td>3.473320e+06</td>\n",
              "      <td>3.473320e+06</td>\n",
              "      <td>3473320.0</td>\n",
              "    </tr>\n",
              "    <tr>\n",
              "      <th>mean</th>\n",
              "      <td>3.624406e+00</td>\n",
              "      <td>4.801020e+04</td>\n",
              "      <td>4.488009e+04</td>\n",
              "      <td>1.315483e+01</td>\n",
              "      <td>1.342306e+00</td>\n",
              "      <td>1.756341e+02</td>\n",
              "      <td>-3.106152e-01</td>\n",
              "      <td>4.194285e+03</td>\n",
              "      <td>2.941575e-01</td>\n",
              "      <td>1.260505e+05</td>\n",
              "      <td>1.525632e+01</td>\n",
              "      <td>1.048040e+01</td>\n",
              "      <td>2019.0</td>\n",
              "    </tr>\n",
              "    <tr>\n",
              "      <th>std</th>\n",
              "      <td>2.749083e+00</td>\n",
              "      <td>3.086509e+04</td>\n",
              "      <td>2.735524e+04</td>\n",
              "      <td>1.773988e+01</td>\n",
              "      <td>3.697353e+00</td>\n",
              "      <td>2.116581e+02</td>\n",
              "      <td>4.627456e-01</td>\n",
              "      <td>6.431817e+03</td>\n",
              "      <td>4.556632e-01</td>\n",
              "      <td>2.086207e+05</td>\n",
              "      <td>8.989167e+00</td>\n",
              "      <td>1.107559e+00</td>\n",
              "      <td>0.0</td>\n",
              "    </tr>\n",
              "    <tr>\n",
              "      <th>min</th>\n",
              "      <td>1.000000e+00</td>\n",
              "      <td>1.000000e+00</td>\n",
              "      <td>1.000000e+00</td>\n",
              "      <td>0.000000e+00</td>\n",
              "      <td>0.000000e+00</td>\n",
              "      <td>0.000000e+00</td>\n",
              "      <td>-1.000000e+00</td>\n",
              "      <td>0.000000e+00</td>\n",
              "      <td>0.000000e+00</td>\n",
              "      <td>0.000000e+00</td>\n",
              "      <td>1.000000e+00</td>\n",
              "      <td>9.000000e+00</td>\n",
              "      <td>2019.0</td>\n",
              "    </tr>\n",
              "    <tr>\n",
              "      <th>25%</th>\n",
              "      <td>1.000000e+00</td>\n",
              "      <td>2.111500e+04</td>\n",
              "      <td>1.437500e+04</td>\n",
              "      <td>4.000000e+00</td>\n",
              "      <td>0.000000e+00</td>\n",
              "      <td>3.600000e+01</td>\n",
              "      <td>-1.000000e+00</td>\n",
              "      <td>0.000000e+00</td>\n",
              "      <td>0.000000e+00</td>\n",
              "      <td>0.000000e+00</td>\n",
              "      <td>7.000000e+00</td>\n",
              "      <td>1.000000e+01</td>\n",
              "      <td>2019.0</td>\n",
              "    </tr>\n",
              "    <tr>\n",
              "      <th>50%</th>\n",
              "      <td>3.000000e+00</td>\n",
              "      <td>4.210400e+04</td>\n",
              "      <td>5.741600e+04</td>\n",
              "      <td>9.360000e+00</td>\n",
              "      <td>0.000000e+00</td>\n",
              "      <td>1.012000e+02</td>\n",
              "      <td>0.000000e+00</td>\n",
              "      <td>0.000000e+00</td>\n",
              "      <td>0.000000e+00</td>\n",
              "      <td>0.000000e+00</td>\n",
              "      <td>1.500000e+01</td>\n",
              "      <td>1.000000e+01</td>\n",
              "      <td>2019.0</td>\n",
              "    </tr>\n",
              "    <tr>\n",
              "      <th>75%</th>\n",
              "      <td>5.000000e+00</td>\n",
              "      <td>7.951000e+04</td>\n",
              "      <td>6.876300e+04</td>\n",
              "      <td>1.600000e+01</td>\n",
              "      <td>1.330000e+00</td>\n",
              "      <td>2.400000e+02</td>\n",
              "      <td>0.000000e+00</td>\n",
              "      <td>1.075100e+04</td>\n",
              "      <td>1.000000e+00</td>\n",
              "      <td>3.139310e+05</td>\n",
              "      <td>2.300000e+01</td>\n",
              "      <td>1.100000e+01</td>\n",
              "      <td>2019.0</td>\n",
              "    </tr>\n",
              "    <tr>\n",
              "      <th>max</th>\n",
              "      <td>1.000000e+01</td>\n",
              "      <td>9.999900e+04</td>\n",
              "      <td>7.832400e+04</td>\n",
              "      <td>2.500000e+03</td>\n",
              "      <td>6.120000e+02</td>\n",
              "      <td>3.183750e+03</td>\n",
              "      <td>0.000000e+00</td>\n",
              "      <td>1.634600e+04</td>\n",
              "      <td>1.000000e+00</td>\n",
              "      <td>4.353006e+06</td>\n",
              "      <td>3.100000e+01</td>\n",
              "      <td>1.200000e+01</td>\n",
              "      <td>2019.0</td>\n",
              "    </tr>\n",
              "  </tbody>\n",
              "</table>\n",
              "</div>"
            ],
            "text/plain": [
              "            BravoNo        BillNo  ...         month       year\n",
              "count  3.473320e+06  3.473320e+06  ...  3.473320e+06  3473320.0\n",
              "mean   3.624406e+00  4.801020e+04  ...  1.048040e+01     2019.0\n",
              "std    2.749083e+00  3.086509e+04  ...  1.107559e+00        0.0\n",
              "min    1.000000e+00  1.000000e+00  ...  9.000000e+00     2019.0\n",
              "25%    1.000000e+00  2.111500e+04  ...  1.000000e+01     2019.0\n",
              "50%    3.000000e+00  4.210400e+04  ...  1.000000e+01     2019.0\n",
              "75%    5.000000e+00  7.951000e+04  ...  1.100000e+01     2019.0\n",
              "max    1.000000e+01  9.999900e+04  ...  1.200000e+01     2019.0\n",
              "\n",
              "[8 rows x 13 columns]"
            ]
          },
          "metadata": {},
          "execution_count": 12
        }
      ]
    },
    {
      "cell_type": "markdown",
      "metadata": {
        "id": "zChBRuR9BO1y"
      },
      "source": [
        "Data range for **Total_Net_InvoiceIncVAT** column."
      ]
    },
    {
      "cell_type": "code",
      "metadata": {
        "colab": {
          "base_uri": "https://localhost:8080/"
        },
        "id": "sW1MtkB9pZn2",
        "outputId": "713ef350-3e14-43ea-b94f-68e6fcd52088"
      },
      "source": [
        "print(df_transactions.Total_Net_InvoiceIncVAT.min(),' - ' ,df_transactions.Total_Net_InvoiceIncVAT.max())"
      ],
      "execution_count": null,
      "outputs": [
        {
          "output_type": "stream",
          "name": "stdout",
          "text": [
            "0.0  -  3183.75\n"
          ]
        }
      ]
    },
    {
      "cell_type": "markdown",
      "metadata": {
        "id": "1dR9U-eTrnM3"
      },
      "source": [
        "There are **1893 rows** with **Total_Net_InvoiceIncVAT = 0**, **What are these vlaues?**"
      ]
    },
    {
      "cell_type": "code",
      "metadata": {
        "colab": {
          "base_uri": "https://localhost:8080/",
          "height": 882
        },
        "id": "lsmoPGmarNS7",
        "outputId": "33c1019b-e55b-4190-ea2b-1e7b504739a5"
      },
      "source": [
        "df_clean[df_clean.Total_Net_InvoiceIncVAT == 0]"
      ],
      "execution_count": null,
      "outputs": [
        {
          "output_type": "execute_result",
          "data": {
            "text/html": [
              "<div>\n",
              "<style scoped>\n",
              "    .dataframe tbody tr th:only-of-type {\n",
              "        vertical-align: middle;\n",
              "    }\n",
              "\n",
              "    .dataframe tbody tr th {\n",
              "        vertical-align: top;\n",
              "    }\n",
              "\n",
              "    .dataframe thead th {\n",
              "        text-align: right;\n",
              "    }\n",
              "</style>\n",
              "<table border=\"1\" class=\"dataframe\">\n",
              "  <thead>\n",
              "    <tr style=\"text-align: right;\">\n",
              "      <th></th>\n",
              "      <th>dTicketInternalKey</th>\n",
              "      <th>BravoNo</th>\n",
              "      <th>Invoice_Date</th>\n",
              "      <th>cBrutoValue</th>\n",
              "      <th>POS_NO</th>\n",
              "      <th>BillNo</th>\n",
              "      <th>dItemInternalKey</th>\n",
              "      <th>Barcode</th>\n",
              "      <th>ItemName</th>\n",
              "      <th>GrossRetailPrice</th>\n",
              "      <th>Quantity</th>\n",
              "      <th>TotalBeforeDisc</th>\n",
              "      <th>DiscValue</th>\n",
              "      <th>NetSales_IncVAT</th>\n",
              "      <th>Total_Net_InvoiceIncVAT</th>\n",
              "      <th>bHasPromotions</th>\n",
              "      <th>OfferNo</th>\n",
              "      <th>dVendorId</th>\n",
              "      <th>DeptNo</th>\n",
              "      <th>CashierNo</th>\n",
              "      <th>CustomerGroup</th>\n",
              "      <th>CustomerNo</th>\n",
              "      <th>day</th>\n",
              "      <th>month</th>\n",
              "      <th>year</th>\n",
              "    </tr>\n",
              "  </thead>\n",
              "  <tbody>\n",
              "    <tr>\n",
              "      <th>11823</th>\n",
              "      <td>30862500</td>\n",
              "      <td>7</td>\n",
              "      <td>01/09/2019 0:00:00</td>\n",
              "      <td>2.0</td>\n",
              "      <td>1</td>\n",
              "      <td>56107</td>\n",
              "      <td>3964</td>\n",
              "      <td>5000312003602</td>\n",
              "      <td>Cadbury Flake 18G</td>\n",
              "      <td>1.0</td>\n",
              "      <td>2.0</td>\n",
              "      <td>2.0</td>\n",
              "      <td>0.0</td>\n",
              "      <td>2.0</td>\n",
              "      <td>0.0</td>\n",
              "      <td>0</td>\n",
              "      <td>0</td>\n",
              "      <td>106470</td>\n",
              "      <td>112</td>\n",
              "      <td>93</td>\n",
              "      <td>0</td>\n",
              "      <td>0</td>\n",
              "      <td>1</td>\n",
              "      <td>9</td>\n",
              "      <td>2019</td>\n",
              "    </tr>\n",
              "    <tr>\n",
              "      <th>11824</th>\n",
              "      <td>30862500</td>\n",
              "      <td>7</td>\n",
              "      <td>01/09/2019 0:00:00</td>\n",
              "      <td>0.5</td>\n",
              "      <td>1</td>\n",
              "      <td>56107</td>\n",
              "      <td>11119</td>\n",
              "      <td>7622210292896</td>\n",
              "      <td>Cadbury Dairy Milk 11 G</td>\n",
              "      <td>0.5</td>\n",
              "      <td>1.0</td>\n",
              "      <td>0.5</td>\n",
              "      <td>0.0</td>\n",
              "      <td>0.5</td>\n",
              "      <td>0.0</td>\n",
              "      <td>0</td>\n",
              "      <td>0</td>\n",
              "      <td>106470</td>\n",
              "      <td>112</td>\n",
              "      <td>93</td>\n",
              "      <td>0</td>\n",
              "      <td>0</td>\n",
              "      <td>1</td>\n",
              "      <td>9</td>\n",
              "      <td>2019</td>\n",
              "    </tr>\n",
              "    <tr>\n",
              "      <th>11825</th>\n",
              "      <td>30862500</td>\n",
              "      <td>7</td>\n",
              "      <td>01/09/2019 0:00:00</td>\n",
              "      <td>7.5</td>\n",
              "      <td>1</td>\n",
              "      <td>56107</td>\n",
              "      <td>12793</td>\n",
              "      <td>7290000042503</td>\n",
              "      <td>Milk Ameed 1L</td>\n",
              "      <td>7.5</td>\n",
              "      <td>1.0</td>\n",
              "      <td>7.5</td>\n",
              "      <td>1.0</td>\n",
              "      <td>6.5</td>\n",
              "      <td>0.0</td>\n",
              "      <td>-1</td>\n",
              "      <td>13901</td>\n",
              "      <td>103260</td>\n",
              "      <td>103</td>\n",
              "      <td>93</td>\n",
              "      <td>0</td>\n",
              "      <td>0</td>\n",
              "      <td>1</td>\n",
              "      <td>9</td>\n",
              "      <td>2019</td>\n",
              "    </tr>\n",
              "    <tr>\n",
              "      <th>11826</th>\n",
              "      <td>30862500</td>\n",
              "      <td>7</td>\n",
              "      <td>01/09/2019 0:00:00</td>\n",
              "      <td>-9.0</td>\n",
              "      <td>1</td>\n",
              "      <td>56107</td>\n",
              "      <td>64870</td>\n",
              "      <td>8691707190471</td>\n",
              "      <td>Ozmo  Cereal Choc Corn Balls 325G</td>\n",
              "      <td>9.0</td>\n",
              "      <td>-1.0</td>\n",
              "      <td>-9.0</td>\n",
              "      <td>0.0</td>\n",
              "      <td>-9.0</td>\n",
              "      <td>0.0</td>\n",
              "      <td>0</td>\n",
              "      <td>0</td>\n",
              "      <td>100235</td>\n",
              "      <td>112</td>\n",
              "      <td>93</td>\n",
              "      <td>0</td>\n",
              "      <td>0</td>\n",
              "      <td>1</td>\n",
              "      <td>9</td>\n",
              "      <td>2019</td>\n",
              "    </tr>\n",
              "    <tr>\n",
              "      <th>17199</th>\n",
              "      <td>30863373</td>\n",
              "      <td>2</td>\n",
              "      <td>01/09/2019 0:00:00</td>\n",
              "      <td>1.0</td>\n",
              "      <td>3</td>\n",
              "      <td>43613</td>\n",
              "      <td>3121</td>\n",
              "      <td>6221134000108</td>\n",
              "      <td>Galaxy Flutes Chocolate 22.5G</td>\n",
              "      <td>1.0</td>\n",
              "      <td>1.0</td>\n",
              "      <td>1.0</td>\n",
              "      <td>0.0</td>\n",
              "      <td>1.0</td>\n",
              "      <td>0.0</td>\n",
              "      <td>0</td>\n",
              "      <td>0</td>\n",
              "      <td>102230</td>\n",
              "      <td>112</td>\n",
              "      <td>644</td>\n",
              "      <td>0</td>\n",
              "      <td>0</td>\n",
              "      <td>1</td>\n",
              "      <td>9</td>\n",
              "      <td>2019</td>\n",
              "    </tr>\n",
              "    <tr>\n",
              "      <th>...</th>\n",
              "      <td>...</td>\n",
              "      <td>...</td>\n",
              "      <td>...</td>\n",
              "      <td>...</td>\n",
              "      <td>...</td>\n",
              "      <td>...</td>\n",
              "      <td>...</td>\n",
              "      <td>...</td>\n",
              "      <td>...</td>\n",
              "      <td>...</td>\n",
              "      <td>...</td>\n",
              "      <td>...</td>\n",
              "      <td>...</td>\n",
              "      <td>...</td>\n",
              "      <td>...</td>\n",
              "      <td>...</td>\n",
              "      <td>...</td>\n",
              "      <td>...</td>\n",
              "      <td>...</td>\n",
              "      <td>...</td>\n",
              "      <td>...</td>\n",
              "      <td>...</td>\n",
              "      <td>...</td>\n",
              "      <td>...</td>\n",
              "      <td>...</td>\n",
              "    </tr>\n",
              "    <tr>\n",
              "      <th>3466362</th>\n",
              "      <td>31748049</td>\n",
              "      <td>3</td>\n",
              "      <td>31/12/2019 0:00:00</td>\n",
              "      <td>-8.0</td>\n",
              "      <td>3</td>\n",
              "      <td>42756</td>\n",
              "      <td>77987</td>\n",
              "      <td>5053990106868</td>\n",
              "      <td>Pringles Paprika 165G</td>\n",
              "      <td>8.0</td>\n",
              "      <td>-1.0</td>\n",
              "      <td>-8.0</td>\n",
              "      <td>0.0</td>\n",
              "      <td>-8.0</td>\n",
              "      <td>0.0</td>\n",
              "      <td>0</td>\n",
              "      <td>0</td>\n",
              "      <td>501020</td>\n",
              "      <td>112</td>\n",
              "      <td>649</td>\n",
              "      <td>0</td>\n",
              "      <td>0</td>\n",
              "      <td>31</td>\n",
              "      <td>12</td>\n",
              "      <td>2019</td>\n",
              "    </tr>\n",
              "    <tr>\n",
              "      <th>3471504</th>\n",
              "      <td>31749023</td>\n",
              "      <td>5</td>\n",
              "      <td>31/12/2019 0:00:00</td>\n",
              "      <td>22.0</td>\n",
              "      <td>3</td>\n",
              "      <td>63159</td>\n",
              "      <td>344</td>\n",
              "      <td>1231932</td>\n",
              "      <td>Winston Light</td>\n",
              "      <td>22.0</td>\n",
              "      <td>1.0</td>\n",
              "      <td>22.0</td>\n",
              "      <td>0.0</td>\n",
              "      <td>22.0</td>\n",
              "      <td>0.0</td>\n",
              "      <td>0</td>\n",
              "      <td>0</td>\n",
              "      <td>100890</td>\n",
              "      <td>108</td>\n",
              "      <td>156</td>\n",
              "      <td>0</td>\n",
              "      <td>0</td>\n",
              "      <td>31</td>\n",
              "      <td>12</td>\n",
              "      <td>2019</td>\n",
              "    </tr>\n",
              "    <tr>\n",
              "      <th>3471505</th>\n",
              "      <td>31749023</td>\n",
              "      <td>5</td>\n",
              "      <td>31/12/2019 0:00:00</td>\n",
              "      <td>-22.0</td>\n",
              "      <td>3</td>\n",
              "      <td>63159</td>\n",
              "      <td>75155</td>\n",
              "      <td>7622100919230</td>\n",
              "      <td>Heets Amber</td>\n",
              "      <td>25.0</td>\n",
              "      <td>-1.0</td>\n",
              "      <td>-22.0</td>\n",
              "      <td>0.0</td>\n",
              "      <td>-22.0</td>\n",
              "      <td>0.0</td>\n",
              "      <td>0</td>\n",
              "      <td>0</td>\n",
              "      <td>501024</td>\n",
              "      <td>108</td>\n",
              "      <td>156</td>\n",
              "      <td>0</td>\n",
              "      <td>0</td>\n",
              "      <td>31</td>\n",
              "      <td>12</td>\n",
              "      <td>2019</td>\n",
              "    </tr>\n",
              "    <tr>\n",
              "      <th>3475404</th>\n",
              "      <td>31754667</td>\n",
              "      <td>1</td>\n",
              "      <td>14/12/2019 0:00:00</td>\n",
              "      <td>12.0</td>\n",
              "      <td>2</td>\n",
              "      <td>1227</td>\n",
              "      <td>9288</td>\n",
              "      <td>717273501874</td>\n",
              "      <td>American Garden Soy Sauce 296Ml</td>\n",
              "      <td>12.0</td>\n",
              "      <td>1.0</td>\n",
              "      <td>12.0</td>\n",
              "      <td>0.0</td>\n",
              "      <td>12.0</td>\n",
              "      <td>0.0</td>\n",
              "      <td>0</td>\n",
              "      <td>0</td>\n",
              "      <td>105140</td>\n",
              "      <td>105</td>\n",
              "      <td>814</td>\n",
              "      <td>0</td>\n",
              "      <td>0</td>\n",
              "      <td>14</td>\n",
              "      <td>12</td>\n",
              "      <td>2019</td>\n",
              "    </tr>\n",
              "    <tr>\n",
              "      <th>3475405</th>\n",
              "      <td>31754667</td>\n",
              "      <td>1</td>\n",
              "      <td>14/12/2019 0:00:00</td>\n",
              "      <td>-12.0</td>\n",
              "      <td>2</td>\n",
              "      <td>1227</td>\n",
              "      <td>9305</td>\n",
              "      <td>717273504189</td>\n",
              "      <td>American Garden Worcester Sauce 295G</td>\n",
              "      <td>12.0</td>\n",
              "      <td>-1.0</td>\n",
              "      <td>-12.0</td>\n",
              "      <td>0.0</td>\n",
              "      <td>-12.0</td>\n",
              "      <td>0.0</td>\n",
              "      <td>0</td>\n",
              "      <td>0</td>\n",
              "      <td>105140</td>\n",
              "      <td>105</td>\n",
              "      <td>814</td>\n",
              "      <td>0</td>\n",
              "      <td>0</td>\n",
              "      <td>14</td>\n",
              "      <td>12</td>\n",
              "      <td>2019</td>\n",
              "    </tr>\n",
              "  </tbody>\n",
              "</table>\n",
              "<p>1893 rows × 25 columns</p>\n",
              "</div>"
            ],
            "text/plain": [
              "         dTicketInternalKey  BravoNo        Invoice_Date  ...  day  month  year\n",
              "11823              30862500        7  01/09/2019 0:00:00  ...    1      9  2019\n",
              "11824              30862500        7  01/09/2019 0:00:00  ...    1      9  2019\n",
              "11825              30862500        7  01/09/2019 0:00:00  ...    1      9  2019\n",
              "11826              30862500        7  01/09/2019 0:00:00  ...    1      9  2019\n",
              "17199              30863373        2  01/09/2019 0:00:00  ...    1      9  2019\n",
              "...                     ...      ...                 ...  ...  ...    ...   ...\n",
              "3466362            31748049        3  31/12/2019 0:00:00  ...   31     12  2019\n",
              "3471504            31749023        5  31/12/2019 0:00:00  ...   31     12  2019\n",
              "3471505            31749023        5  31/12/2019 0:00:00  ...   31     12  2019\n",
              "3475404            31754667        1  14/12/2019 0:00:00  ...   14     12  2019\n",
              "3475405            31754667        1  14/12/2019 0:00:00  ...   14     12  2019\n",
              "\n",
              "[1893 rows x 25 columns]"
            ]
          },
          "metadata": {},
          "execution_count": 14
        }
      ]
    },
    {
      "cell_type": "code",
      "metadata": {
        "colab": {
          "base_uri": "https://localhost:8080/",
          "height": 285
        },
        "id": "mNRj6kAhpPHZ",
        "outputId": "cdd6108a-acfc-47c8-9d98-59f57d288476"
      },
      "source": [
        "sns.set(color_codes=True)\n",
        "\n",
        "f, ax = plt.subplots(1,1, figsize=(8, 3));\n",
        "ax = sns.distplot(df_transactions.Total_Net_InvoiceIncVAT, kde=True, bins=70)\n",
        "\n",
        "ax.set(xlim=(0, 1000));\n",
        "ax.set_ylabel('counts');"
      ],
      "execution_count": null,
      "outputs": [
        {
          "output_type": "stream",
          "name": "stderr",
          "text": [
            "/usr/local/lib/python3.7/dist-packages/seaborn/distributions.py:2557: FutureWarning: `distplot` is a deprecated function and will be removed in a future version. Please adapt your code to use either `displot` (a figure-level function with similar flexibility) or `histplot` (an axes-level function for histograms).\n",
            "  warnings.warn(msg, FutureWarning)\n"
          ]
        },
        {
          "output_type": "display_data",
          "data": {
            "image/png": "[encoded data removed]",
            "text/plain": [
              "<Figure size 576x216 with 1 Axes>"
            ]
          },
          "metadata": {}
        }
      ]
    },
    {
      "cell_type": "markdown",
      "metadata": {
        "id": "hEmoHgXqsL-h"
      },
      "source": [
        "**Data Cleaning for Total_Net_InvoiceIncVAT values that equals zero**\n",
        "In this stage we will drop data with value zero. "
      ]
    },
    {
      "cell_type": "code",
      "metadata": {
        "colab": {
          "base_uri": "https://localhost:8080/",
          "height": 797
        },
        "id": "JWJ-v4Y9sM4-",
        "outputId": "80f31505-db35-40ac-aa32-2d0b590bf122"
      },
      "source": [
        "# Get names of indexes for which column Total_Net_InvoiceIncVAT has value equals 0\n",
        "indexNames = df_transactions.loc[(df_transactions['Total_Net_InvoiceIncVAT']==0)].index\n",
        "\n",
        "# Delete these row indexes from dataFrame\n",
        "df_transactions.drop(indexNames , inplace=True )\n",
        "df_transactions"
      ],
      "execution_count": null,
      "outputs": [
        {
          "output_type": "execute_result",
          "data": {
            "text/html": [
              "<div>\n",
              "<style scoped>\n",
              "    .dataframe tbody tr th:only-of-type {\n",
              "        vertical-align: middle;\n",
              "    }\n",
              "\n",
              "    .dataframe tbody tr th {\n",
              "        vertical-align: top;\n",
              "    }\n",
              "\n",
              "    .dataframe thead th {\n",
              "        text-align: right;\n",
              "    }\n",
              "</style>\n",
              "<table border=\"1\" class=\"dataframe\">\n",
              "  <thead>\n",
              "    <tr style=\"text-align: right;\">\n",
              "      <th></th>\n",
              "      <th>BravoNo</th>\n",
              "      <th>BillNo</th>\n",
              "      <th>dItemInternalKey</th>\n",
              "      <th>ItemName</th>\n",
              "      <th>TotalBeforeDisc</th>\n",
              "      <th>DiscValue</th>\n",
              "      <th>NetSales_IncVAT</th>\n",
              "      <th>Total_Net_InvoiceIncVAT</th>\n",
              "      <th>bHasPromotions</th>\n",
              "      <th>OfferNo</th>\n",
              "      <th>CustomerGroup</th>\n",
              "      <th>CustomerNo</th>\n",
              "      <th>day</th>\n",
              "      <th>month</th>\n",
              "      <th>year</th>\n",
              "    </tr>\n",
              "  </thead>\n",
              "  <tbody>\n",
              "    <tr>\n",
              "      <th>0</th>\n",
              "      <td>1</td>\n",
              "      <td>50200</td>\n",
              "      <td>142</td>\n",
              "      <td>Tnuva Amek Cheese</td>\n",
              "      <td>11.75</td>\n",
              "      <td>1.95</td>\n",
              "      <td>9.80</td>\n",
              "      <td>18.8</td>\n",
              "      <td>-1</td>\n",
              "      <td>13369</td>\n",
              "      <td>0</td>\n",
              "      <td>0</td>\n",
              "      <td>1</td>\n",
              "      <td>9</td>\n",
              "      <td>2019</td>\n",
              "    </tr>\n",
              "    <tr>\n",
              "      <th>1</th>\n",
              "      <td>1</td>\n",
              "      <td>50200</td>\n",
              "      <td>21718</td>\n",
              "      <td>Healthy Bread Pcs</td>\n",
              "      <td>6.00</td>\n",
              "      <td>0.00</td>\n",
              "      <td>6.00</td>\n",
              "      <td>18.8</td>\n",
              "      <td>0</td>\n",
              "      <td>0</td>\n",
              "      <td>0</td>\n",
              "      <td>0</td>\n",
              "      <td>1</td>\n",
              "      <td>9</td>\n",
              "      <td>2019</td>\n",
              "    </tr>\n",
              "    <tr>\n",
              "      <th>2</th>\n",
              "      <td>1</td>\n",
              "      <td>50200</td>\n",
              "      <td>75254</td>\n",
              "      <td>Cadbury 5Star 48G</td>\n",
              "      <td>2.00</td>\n",
              "      <td>0.00</td>\n",
              "      <td>2.00</td>\n",
              "      <td>18.8</td>\n",
              "      <td>0</td>\n",
              "      <td>0</td>\n",
              "      <td>0</td>\n",
              "      <td>0</td>\n",
              "      <td>1</td>\n",
              "      <td>9</td>\n",
              "      <td>2019</td>\n",
              "    </tr>\n",
              "    <tr>\n",
              "      <th>3</th>\n",
              "      <td>1</td>\n",
              "      <td>50200</td>\n",
              "      <td>77885</td>\n",
              "      <td>Nesquik Biscuit Milk 56G</td>\n",
              "      <td>1.00</td>\n",
              "      <td>0.00</td>\n",
              "      <td>1.00</td>\n",
              "      <td>18.8</td>\n",
              "      <td>0</td>\n",
              "      <td>0</td>\n",
              "      <td>0</td>\n",
              "      <td>0</td>\n",
              "      <td>1</td>\n",
              "      <td>9</td>\n",
              "      <td>2019</td>\n",
              "    </tr>\n",
              "    <tr>\n",
              "      <th>4</th>\n",
              "      <td>1</td>\n",
              "      <td>50201</td>\n",
              "      <td>1292</td>\n",
              "      <td>Marlboro Red</td>\n",
              "      <td>25.00</td>\n",
              "      <td>0.00</td>\n",
              "      <td>25.00</td>\n",
              "      <td>45.0</td>\n",
              "      <td>0</td>\n",
              "      <td>0</td>\n",
              "      <td>0</td>\n",
              "      <td>0</td>\n",
              "      <td>1</td>\n",
              "      <td>9</td>\n",
              "      <td>2019</td>\n",
              "    </tr>\n",
              "    <tr>\n",
              "      <th>...</th>\n",
              "      <td>...</td>\n",
              "      <td>...</td>\n",
              "      <td>...</td>\n",
              "      <td>...</td>\n",
              "      <td>...</td>\n",
              "      <td>...</td>\n",
              "      <td>...</td>\n",
              "      <td>...</td>\n",
              "      <td>...</td>\n",
              "      <td>...</td>\n",
              "      <td>...</td>\n",
              "      <td>...</td>\n",
              "      <td>...</td>\n",
              "      <td>...</td>\n",
              "      <td>...</td>\n",
              "    </tr>\n",
              "    <tr>\n",
              "      <th>3481787</th>\n",
              "      <td>1</td>\n",
              "      <td>38929</td>\n",
              "      <td>63798</td>\n",
              "      <td>Peanut Butter Ruparels Red 510G</td>\n",
              "      <td>30.00</td>\n",
              "      <td>10.00</td>\n",
              "      <td>20.00</td>\n",
              "      <td>268.9</td>\n",
              "      <td>-1</td>\n",
              "      <td>15967</td>\n",
              "      <td>1</td>\n",
              "      <td>628959</td>\n",
              "      <td>14</td>\n",
              "      <td>12</td>\n",
              "      <td>2019</td>\n",
              "    </tr>\n",
              "    <tr>\n",
              "      <th>3481788</th>\n",
              "      <td>1</td>\n",
              "      <td>38929</td>\n",
              "      <td>68245</td>\n",
              "      <td>Jericho Water 8*1.5L Case</td>\n",
              "      <td>20.00</td>\n",
              "      <td>3.00</td>\n",
              "      <td>17.00</td>\n",
              "      <td>268.9</td>\n",
              "      <td>-1</td>\n",
              "      <td>16124</td>\n",
              "      <td>1</td>\n",
              "      <td>628959</td>\n",
              "      <td>14</td>\n",
              "      <td>12</td>\n",
              "      <td>2019</td>\n",
              "    </tr>\n",
              "    <tr>\n",
              "      <th>3481789</th>\n",
              "      <td>1</td>\n",
              "      <td>38929</td>\n",
              "      <td>69643</td>\n",
              "      <td>Alaa Al Deen Tissues 800G 2P</td>\n",
              "      <td>22.00</td>\n",
              "      <td>2.00</td>\n",
              "      <td>20.00</td>\n",
              "      <td>268.9</td>\n",
              "      <td>-1</td>\n",
              "      <td>14084</td>\n",
              "      <td>1</td>\n",
              "      <td>628959</td>\n",
              "      <td>14</td>\n",
              "      <td>12</td>\n",
              "      <td>2019</td>\n",
              "    </tr>\n",
              "    <tr>\n",
              "      <th>3481790</th>\n",
              "      <td>1</td>\n",
              "      <td>38929</td>\n",
              "      <td>76574</td>\n",
              "      <td>Reema Toilet 32 Roll</td>\n",
              "      <td>40.00</td>\n",
              "      <td>8.00</td>\n",
              "      <td>32.00</td>\n",
              "      <td>268.9</td>\n",
              "      <td>-1</td>\n",
              "      <td>15482</td>\n",
              "      <td>1</td>\n",
              "      <td>628959</td>\n",
              "      <td>14</td>\n",
              "      <td>12</td>\n",
              "      <td>2019</td>\n",
              "    </tr>\n",
              "    <tr>\n",
              "      <th>3481791</th>\n",
              "      <td>1</td>\n",
              "      <td>38929</td>\n",
              "      <td>77562</td>\n",
              "      <td>Cappy Pear Kiwi &amp; Cactus1.5L</td>\n",
              "      <td>5.00</td>\n",
              "      <td>1.33</td>\n",
              "      <td>3.67</td>\n",
              "      <td>268.9</td>\n",
              "      <td>-1</td>\n",
              "      <td>13269</td>\n",
              "      <td>1</td>\n",
              "      <td>628959</td>\n",
              "      <td>14</td>\n",
              "      <td>12</td>\n",
              "      <td>2019</td>\n",
              "    </tr>\n",
              "  </tbody>\n",
              "</table>\n",
              "<p>3472258 rows × 15 columns</p>\n",
              "</div>"
            ],
            "text/plain": [
              "         BravoNo  BillNo  dItemInternalKey  ... day  month  year\n",
              "0              1   50200               142  ...   1      9  2019\n",
              "1              1   50200             21718  ...   1      9  2019\n",
              "2              1   50200             75254  ...   1      9  2019\n",
              "3              1   50200             77885  ...   1      9  2019\n",
              "4              1   50201              1292  ...   1      9  2019\n",
              "...          ...     ...               ...  ...  ..    ...   ...\n",
              "3481787        1   38929             63798  ...  14     12  2019\n",
              "3481788        1   38929             68245  ...  14     12  2019\n",
              "3481789        1   38929             69643  ...  14     12  2019\n",
              "3481790        1   38929             76574  ...  14     12  2019\n",
              "3481791        1   38929             77562  ...  14     12  2019\n",
              "\n",
              "[3472258 rows x 15 columns]"
            ]
          },
          "metadata": {},
          "execution_count": 118
        }
      ]
    },
    {
      "cell_type": "code",
      "metadata": {
        "colab": {
          "base_uri": "https://localhost:8080/",
          "height": 285
        },
        "id": "_tZ95eB_sXPI",
        "outputId": "aa0dd9a3-df2f-4757-e827-37b6fe6366ba"
      },
      "source": [
        "sns.set(color_codes=True)\n",
        "\n",
        "f, ax = plt.subplots(1,1, figsize=(8, 3));\n",
        "ax = sns.distplot(df_transactions.Total_Net_InvoiceIncVAT, kde=True, bins=70)\n",
        "\n",
        "ax.set(xlim=(0, 1000));\n",
        "ax.set_ylabel('counts');"
      ],
      "execution_count": null,
      "outputs": [
        {
          "output_type": "stream",
          "name": "stderr",
          "text": [
            "/usr/local/lib/python3.7/dist-packages/seaborn/distributions.py:2557: FutureWarning: `distplot` is a deprecated function and will be removed in a future version. Please adapt your code to use either `displot` (a figure-level function with similar flexibility) or `histplot` (an axes-level function for histograms).\n",
            "  warnings.warn(msg, FutureWarning)\n"
          ]
        },
        {
          "output_type": "display_data",
          "data": {
            "image/png": "[encoded data removed]",
            "text/plain": [
              "<Figure size 576x216 with 1 Axes>"
            ]
          },
          "metadata": {}
        }
      ]
    },
    {
      "cell_type": "code",
      "metadata": {
        "colab": {
          "base_uri": "https://localhost:8080/"
        },
        "id": "ZZnigEyZtErr",
        "outputId": "7156cff6-91d0-445a-ab86-5b233837eede"
      },
      "source": [
        "print(df_transactions.Total_Net_InvoiceIncVAT.min(),' - ' ,df_transactions.Total_Net_InvoiceIncVAT.max())"
      ],
      "execution_count": null,
      "outputs": [
        {
          "output_type": "stream",
          "name": "stdout",
          "text": [
            "0.05  -  3183.75\n"
          ]
        }
      ]
    },
    {
      "cell_type": "code",
      "metadata": {
        "colab": {
          "base_uri": "https://localhost:8080/",
          "height": 686
        },
        "id": "iTxDKFvHt28k",
        "outputId": "da3bd763-9bad-4bda-a04a-ea70a97bd3d1"
      },
      "source": [
        "df_transactions[df_transactions.Total_Net_InvoiceIncVAT <.5]"
      ],
      "execution_count": null,
      "outputs": [
        {
          "output_type": "execute_result",
          "data": {
            "text/html": [
              "<div>\n",
              "<style scoped>\n",
              "    .dataframe tbody tr th:only-of-type {\n",
              "        vertical-align: middle;\n",
              "    }\n",
              "\n",
              "    .dataframe tbody tr th {\n",
              "        vertical-align: top;\n",
              "    }\n",
              "\n",
              "    .dataframe thead th {\n",
              "        text-align: right;\n",
              "    }\n",
              "</style>\n",
              "<table border=\"1\" class=\"dataframe\">\n",
              "  <thead>\n",
              "    <tr style=\"text-align: right;\">\n",
              "      <th></th>\n",
              "      <th>BravoNo</th>\n",
              "      <th>BillNo</th>\n",
              "      <th>dItemInternalKey</th>\n",
              "      <th>ItemName</th>\n",
              "      <th>TotalBeforeDisc</th>\n",
              "      <th>DiscValue</th>\n",
              "      <th>Total_Net_InvoiceIncVAT</th>\n",
              "      <th>bHasPromotions</th>\n",
              "      <th>OfferNo</th>\n",
              "      <th>CustomerGroup</th>\n",
              "      <th>CustomerNo</th>\n",
              "      <th>day</th>\n",
              "      <th>month</th>\n",
              "      <th>year</th>\n",
              "    </tr>\n",
              "  </thead>\n",
              "  <tbody>\n",
              "    <tr>\n",
              "      <th>2300</th>\n",
              "      <td>1</td>\n",
              "      <td>76365</td>\n",
              "      <td>70483</td>\n",
              "      <td>Mother Day</td>\n",
              "      <td>0.10</td>\n",
              "      <td>0.0</td>\n",
              "      <td>0.10</td>\n",
              "      <td>0</td>\n",
              "      <td>0</td>\n",
              "      <td>0</td>\n",
              "      <td>0</td>\n",
              "      <td>1</td>\n",
              "      <td>9</td>\n",
              "      <td>2019</td>\n",
              "    </tr>\n",
              "    <tr>\n",
              "      <th>16330</th>\n",
              "      <td>2</td>\n",
              "      <td>43247</td>\n",
              "      <td>48291</td>\n",
              "      <td>Bravo Plastic Bags</td>\n",
              "      <td>0.05</td>\n",
              "      <td>0.0</td>\n",
              "      <td>0.05</td>\n",
              "      <td>0</td>\n",
              "      <td>0</td>\n",
              "      <td>0</td>\n",
              "      <td>0</td>\n",
              "      <td>1</td>\n",
              "      <td>9</td>\n",
              "      <td>2019</td>\n",
              "    </tr>\n",
              "    <tr>\n",
              "      <th>75683</th>\n",
              "      <td>2</td>\n",
              "      <td>44209</td>\n",
              "      <td>1748</td>\n",
              "      <td>Roast Beef</td>\n",
              "      <td>36.10</td>\n",
              "      <td>0.0</td>\n",
              "      <td>0.10</td>\n",
              "      <td>0</td>\n",
              "      <td>0</td>\n",
              "      <td>0</td>\n",
              "      <td>0</td>\n",
              "      <td>3</td>\n",
              "      <td>9</td>\n",
              "      <td>2019</td>\n",
              "    </tr>\n",
              "    <tr>\n",
              "      <th>75686</th>\n",
              "      <td>2</td>\n",
              "      <td>44209</td>\n",
              "      <td>74079</td>\n",
              "      <td>Carton Cups 7Oz</td>\n",
              "      <td>16.00</td>\n",
              "      <td>6.0</td>\n",
              "      <td>0.10</td>\n",
              "      <td>-1</td>\n",
              "      <td>14310</td>\n",
              "      <td>0</td>\n",
              "      <td>0</td>\n",
              "      <td>3</td>\n",
              "      <td>9</td>\n",
              "      <td>2019</td>\n",
              "    </tr>\n",
              "    <tr>\n",
              "      <th>75888</th>\n",
              "      <td>2</td>\n",
              "      <td>44272</td>\n",
              "      <td>62456</td>\n",
              "      <td>Roastery 36 Nis</td>\n",
              "      <td>5.05</td>\n",
              "      <td>0.0</td>\n",
              "      <td>0.05</td>\n",
              "      <td>0</td>\n",
              "      <td>0</td>\n",
              "      <td>0</td>\n",
              "      <td>0</td>\n",
              "      <td>3</td>\n",
              "      <td>9</td>\n",
              "      <td>2019</td>\n",
              "    </tr>\n",
              "    <tr>\n",
              "      <th>...</th>\n",
              "      <td>...</td>\n",
              "      <td>...</td>\n",
              "      <td>...</td>\n",
              "      <td>...</td>\n",
              "      <td>...</td>\n",
              "      <td>...</td>\n",
              "      <td>...</td>\n",
              "      <td>...</td>\n",
              "      <td>...</td>\n",
              "      <td>...</td>\n",
              "      <td>...</td>\n",
              "      <td>...</td>\n",
              "      <td>...</td>\n",
              "      <td>...</td>\n",
              "    </tr>\n",
              "    <tr>\n",
              "      <th>3445986</th>\n",
              "      <td>1</td>\n",
              "      <td>8974</td>\n",
              "      <td>70483</td>\n",
              "      <td>Mother Day</td>\n",
              "      <td>0.10</td>\n",
              "      <td>0.0</td>\n",
              "      <td>0.10</td>\n",
              "      <td>0</td>\n",
              "      <td>0</td>\n",
              "      <td>0</td>\n",
              "      <td>0</td>\n",
              "      <td>31</td>\n",
              "      <td>12</td>\n",
              "      <td>2019</td>\n",
              "    </tr>\n",
              "    <tr>\n",
              "      <th>3447239</th>\n",
              "      <td>1</td>\n",
              "      <td>32045</td>\n",
              "      <td>50026</td>\n",
              "      <td>Spoons Box</td>\n",
              "      <td>0.01</td>\n",
              "      <td>0.0</td>\n",
              "      <td>0.05</td>\n",
              "      <td>0</td>\n",
              "      <td>0</td>\n",
              "      <td>0</td>\n",
              "      <td>0</td>\n",
              "      <td>31</td>\n",
              "      <td>12</td>\n",
              "      <td>2019</td>\n",
              "    </tr>\n",
              "    <tr>\n",
              "      <th>3447240</th>\n",
              "      <td>1</td>\n",
              "      <td>32045</td>\n",
              "      <td>50028</td>\n",
              "      <td>Kitchen Toliet Roll 1200M</td>\n",
              "      <td>0.03</td>\n",
              "      <td>0.0</td>\n",
              "      <td>0.05</td>\n",
              "      <td>0</td>\n",
              "      <td>0</td>\n",
              "      <td>0</td>\n",
              "      <td>0</td>\n",
              "      <td>31</td>\n",
              "      <td>12</td>\n",
              "      <td>2019</td>\n",
              "    </tr>\n",
              "    <tr>\n",
              "      <th>3447241</th>\n",
              "      <td>1</td>\n",
              "      <td>32045</td>\n",
              "      <td>50039</td>\n",
              "      <td>Shrink-Blue</td>\n",
              "      <td>0.01</td>\n",
              "      <td>0.0</td>\n",
              "      <td>0.05</td>\n",
              "      <td>0</td>\n",
              "      <td>0</td>\n",
              "      <td>0</td>\n",
              "      <td>0</td>\n",
              "      <td>31</td>\n",
              "      <td>12</td>\n",
              "      <td>2019</td>\n",
              "    </tr>\n",
              "    <tr>\n",
              "      <th>3456474</th>\n",
              "      <td>10</td>\n",
              "      <td>53583</td>\n",
              "      <td>48291</td>\n",
              "      <td>Bravo Plastic Bags</td>\n",
              "      <td>0.05</td>\n",
              "      <td>0.0</td>\n",
              "      <td>0.05</td>\n",
              "      <td>0</td>\n",
              "      <td>0</td>\n",
              "      <td>0</td>\n",
              "      <td>0</td>\n",
              "      <td>31</td>\n",
              "      <td>12</td>\n",
              "      <td>2019</td>\n",
              "    </tr>\n",
              "  </tbody>\n",
              "</table>\n",
              "<p>517 rows × 14 columns</p>\n",
              "</div>"
            ],
            "text/plain": [
              "         BravoNo  BillNo  dItemInternalKey  ... day  month  year\n",
              "2300           1   76365             70483  ...   1      9  2019\n",
              "16330          2   43247             48291  ...   1      9  2019\n",
              "75683          2   44209              1748  ...   3      9  2019\n",
              "75686          2   44209             74079  ...   3      9  2019\n",
              "75888          2   44272             62456  ...   3      9  2019\n",
              "...          ...     ...               ...  ...  ..    ...   ...\n",
              "3445986        1    8974             70483  ...  31     12  2019\n",
              "3447239        1   32045             50026  ...  31     12  2019\n",
              "3447240        1   32045             50028  ...  31     12  2019\n",
              "3447241        1   32045             50039  ...  31     12  2019\n",
              "3456474       10   53583             48291  ...  31     12  2019\n",
              "\n",
              "[517 rows x 14 columns]"
            ]
          },
          "metadata": {},
          "execution_count": 68
        }
      ]
    },
    {
      "cell_type": "markdown",
      "metadata": {
        "id": "V_-jNC0YtftW"
      },
      "source": [
        "**The problem reamins with bills that have values near zero ?!!!**"
      ]
    },
    {
      "cell_type": "markdown",
      "metadata": {
        "id": "oFflirCAumGe"
      },
      "source": [
        "Check The histogram for Discount"
      ]
    },
    {
      "cell_type": "code",
      "metadata": {
        "colab": {
          "base_uri": "https://localhost:8080/"
        },
        "id": "sFWtkYKvux0c",
        "outputId": "a7a4d7ea-839c-4bd8-8d74-dbfe15b2c306"
      },
      "source": [
        "print(df_transactions.DiscValue.min(),' - ' ,df_transactions.DiscValue.max())"
      ],
      "execution_count": null,
      "outputs": [
        {
          "output_type": "stream",
          "name": "stdout",
          "text": [
            "0.0  -  612.0\n"
          ]
        }
      ]
    },
    {
      "cell_type": "code",
      "metadata": {
        "colab": {
          "base_uri": "https://localhost:8080/",
          "height": 296
        },
        "id": "mDKFd74xuggz",
        "outputId": "62042d4b-640f-4b1d-d36e-42aeb6fe93b1"
      },
      "source": [
        "sns.set(color_codes=True)\n",
        "\n",
        "f, ax = plt.subplots(1,1, figsize=(8, 3));\n",
        "ax = sns.distplot(df_transactions.DiscValue, kde=False, bins=100)\n",
        "\n",
        "ax.set(xlim=(0, 620));\n",
        "ax.set_ylabel('counts');"
      ],
      "execution_count": null,
      "outputs": [
        {
          "output_type": "stream",
          "name": "stderr",
          "text": [
            "/usr/local/lib/python3.7/dist-packages/seaborn/distributions.py:2557: FutureWarning: `distplot` is a deprecated function and will be removed in a future version. Please adapt your code to use either `displot` (a figure-level function with similar flexibility) or `histplot` (an axes-level function for histograms).\n",
            "  warnings.warn(msg, FutureWarning)\n"
          ]
        },
        {
          "output_type": "display_data",
          "data": {
            "image/png": "[encoded data removed]",
            "text/plain": [
              "<Figure size 576x216 with 1 Axes>"
            ]
          },
          "metadata": {}
        }
      ]
    },
    {
      "cell_type": "markdown",
      "metadata": {
        "id": "ousjVXQIK0av"
      },
      "source": [
        "## Statistical Question:\n",
        "\n",
        "---\n",
        "\n"
      ]
    },
    {
      "cell_type": "markdown",
      "metadata": {
        "id": "XXDrkQrZK7zD"
      },
      "source": [
        "\n",
        "\n",
        "\n",
        "### Q1: How many customer Groups are there? \n",
        "\n",
        "\n"
      ]
    },
    {
      "cell_type": "code",
      "metadata": {
        "colab": {
          "base_uri": "https://localhost:8080/"
        },
        "id": "DtViy5mhgUU_",
        "outputId": "13be8110-b70d-4eea-bdb1-7ae4e1de09f9"
      },
      "source": [
        "df_clean.CustomerGroup.value_counts()"
      ],
      "execution_count": null,
      "outputs": [
        {
          "output_type": "execute_result",
          "data": {
            "text/plain": [
              "0    2459554\n",
              "1    1022235\n",
              "Name: CustomerGroup, dtype: Int64"
            ]
          },
          "metadata": {},
          "execution_count": 19
        }
      ]
    },
    {
      "cell_type": "code",
      "metadata": {
        "colab": {
          "base_uri": "https://localhost:8080/",
          "height": 319
        },
        "id": "apMk_-r5B6hC",
        "outputId": "92c56a5b-1360-4c95-9b2f-45e288bac39f"
      },
      "source": [
        "f, ax = plt.subplots(1,1, figsize=(5, 3));\n",
        "ax =sns.countplot(df_clean.CustomerGroup)\n",
        "ax.set_ylabel('counts');\n",
        "ax.set_xlabel('Customer Groups');\n",
        "ax.set_title('Number of customers per group', fontsize=12)"
      ],
      "execution_count": null,
      "outputs": [
        {
          "output_type": "stream",
          "name": "stderr",
          "text": [
            "/usr/local/lib/python3.7/dist-packages/seaborn/_decorators.py:43: FutureWarning: Pass the following variable as a keyword arg: x. From version 0.12, the only valid positional argument will be `data`, and passing other arguments without an explicit keyword will result in an error or misinterpretation.\n",
            "  FutureWarning\n"
          ]
        },
        {
          "output_type": "execute_result",
          "data": {
            "text/plain": [
              "Text(0.5, 1.0, 'Number of customers per group')"
            ]
          },
          "metadata": {},
          "execution_count": 25
        },
        {
          "output_type": "display_data",
          "data": {
            "image/png": "[encoded data removed]",
            "text/plain": [
              "<Figure size 360x216 with 1 Axes>"
            ]
          },
          "metadata": {}
        }
      ]
    },
    {
      "cell_type": "markdown",
      "metadata": {
        "id": "jJ3ZGd0ifMi8"
      },
      "source": [
        "The above figure shows clearly that the customer group 0 is dominentet with about 2.5 M customer, while the customer group 1 is about 1 M. The majority of the customers in the dataset are not rejesterd, i.e they don't have an ID, and hence, there is no history for their payments. "
      ]
    },
    {
      "cell_type": "markdown",
      "metadata": {
        "id": "B-12Je43goMg"
      },
      "source": [
        "### **Q2: What is the percentage of each group?**\n",
        "\n",
        "\n"
      ]
    },
    {
      "cell_type": "code",
      "metadata": {
        "colab": {
          "base_uri": "https://localhost:8080/",
          "height": 315
        },
        "id": "S8W2bxIJgotD",
        "outputId": "1952f520-393f-4e53-ca4d-04698039e18d"
      },
      "source": [
        "\n",
        "\n",
        "f, ax = plt.subplots(1,1, figsize=(7, 4));\n",
        "ax =df_clean.CustomerGroup.value_counts(normalize=True).plot(kind='bar')\n",
        "ax.set_ylabel('Percentages');\n",
        "ax.set_xlabel('Customer Groups');\n",
        "ax.set_title('Number of customers per group', fontsize=12)"
      ],
      "execution_count": null,
      "outputs": [
        {
          "output_type": "execute_result",
          "data": {
            "text/plain": [
              "Text(0.5, 1.0, 'Number of customers per group')"
            ]
          },
          "metadata": {},
          "execution_count": 29
        },
        {
          "output_type": "display_data",
          "data": {
            "image/png": "[encoded data removed]",
            "text/plain": [
              "<Figure size 504x288 with 1 Axes>"
            ]
          },
          "metadata": {}
        }
      ]
    },
    {
      "cell_type": "markdown",
      "metadata": {
        "id": "2VyB_ixfho8D"
      },
      "source": [
        "The customers who don't buy with Bravo Thank you card **(CustomerGroup=zero)** have a percentage with ***0.7%*** while the customers  who hold Bravo Card **(CustomerGroup=one)** are only about ***0.29%***."
      ]
    },
    {
      "cell_type": "code",
      "metadata": {
        "colab": {
          "base_uri": "https://localhost:8080/"
        },
        "id": "TYiyIn11Hwx5",
        "outputId": "ad72e8f1-38dd-4e61-b517-330d9e31abc2"
      },
      "source": [
        "df_clean.dtypes"
      ],
      "execution_count": null,
      "outputs": [
        {
          "data": {
            "text/plain": [
              "dTicketInternalKey           int64\n",
              "BravoNo                      int64\n",
              "Invoice_Date                object\n",
              "cBrutoValue                float64\n",
              "POS_NO                       int64\n",
              "BillNo                       int64\n",
              "dItemInternalKey             int64\n",
              "Barcode                      int64\n",
              "ItemName                    object\n",
              "GrossRetailPrice           float64\n",
              "Quantity                   float64\n",
              "TotalBeforeDisc            float64\n",
              "DiscValue                  float64\n",
              "NetSales_IncVAT            float64\n",
              "Total_Net_InvoiceIncVAT    float64\n",
              "bHasPromotions               int64\n",
              "OfferNo                      int64\n",
              "dVendorId                  float64\n",
              "DeptNo                       int64\n",
              "CashierNo                    int64\n",
              "CustomerGroup                int64\n",
              "CustomerNo                   int64\n",
              "dtype: object"
            ]
          },
          "execution_count": 7,
          "metadata": {},
          "output_type": "execute_result"
        }
      ]
    },
    {
      "cell_type": "markdown",
      "metadata": {
        "id": "TwzxCMZti59H"
      },
      "source": [
        "### **Q3: What are the monthly purchases for customers?**\n"
      ]
    },
    {
      "cell_type": "code",
      "metadata": {
        "colab": {
          "base_uri": "https://localhost:8080/",
          "height": 518
        },
        "id": "rYwS-P5ji9y7",
        "outputId": "69236b8d-3d48-4553-9410-ad28f3b98b2c"
      },
      "source": [
        "#df_customers= df_clean[df_clean.CustomerGroup ==1] # only customers who have Bravo Card.\n",
        "f, ax = plt.subplots(1,1, figsize=(7, 4));\n",
        "df_monthly_purchases=df_transactions.groupby(['month'])\n",
        "ax =df_monthly_purchases['NetSales_IncVAT'].sum().plot.barh(rot=0, subplots=True)\n",
        "ax.set_ylabel('Month');\n",
        "ax.set_xlabel('NetSales_IncVAT');\n",
        "ax.set_title('NetSales_IncVAT per Month', fontsize=12)"
      ],
      "execution_count": null,
      "outputs": [
        {
          "output_type": "error",
          "ename": "AttributeError",
          "evalue": "ignored",
          "traceback": [
            "\u001b[0;31m---------------------------------------------------------------------------\u001b[0m",
            "\u001b[0;31mAttributeError\u001b[0m                            Traceback (most recent call last)",
            "\u001b[0;32m<ipython-input-119-0b9799b820bb>\u001b[0m in \u001b[0;36m<module>\u001b[0;34m()\u001b[0m\n\u001b[1;32m      3\u001b[0m \u001b[0mdf_monthly_purchases\u001b[0m\u001b[0;34m=\u001b[0m\u001b[0mdf_transactions\u001b[0m\u001b[0;34m.\u001b[0m\u001b[0mgroupby\u001b[0m\u001b[0;34m(\u001b[0m\u001b[0;34m[\u001b[0m\u001b[0;34m'month'\u001b[0m\u001b[0;34m]\u001b[0m\u001b[0;34m)\u001b[0m\u001b[0;34m\u001b[0m\u001b[0;34m\u001b[0m\u001b[0m\n\u001b[1;32m      4\u001b[0m \u001b[0max\u001b[0m \u001b[0;34m=\u001b[0m\u001b[0mdf_monthly_purchases\u001b[0m\u001b[0;34m[\u001b[0m\u001b[0;34m'NetSales_IncVAT'\u001b[0m\u001b[0;34m]\u001b[0m\u001b[0;34m.\u001b[0m\u001b[0msum\u001b[0m\u001b[0;34m(\u001b[0m\u001b[0;34m)\u001b[0m\u001b[0;34m.\u001b[0m\u001b[0mplot\u001b[0m\u001b[0;34m.\u001b[0m\u001b[0mbarh\u001b[0m\u001b[0;34m(\u001b[0m\u001b[0mrot\u001b[0m\u001b[0;34m=\u001b[0m\u001b[0;36m0\u001b[0m\u001b[0;34m,\u001b[0m \u001b[0msubplots\u001b[0m\u001b[0;34m=\u001b[0m\u001b[0;32mTrue\u001b[0m\u001b[0;34m)\u001b[0m\u001b[0;34m\u001b[0m\u001b[0;34m\u001b[0m\u001b[0m\n\u001b[0;32m----> 5\u001b[0;31m \u001b[0max\u001b[0m\u001b[0;34m.\u001b[0m\u001b[0mset_ylabel\u001b[0m\u001b[0;34m(\u001b[0m\u001b[0;34m'Month'\u001b[0m\u001b[0;34m)\u001b[0m\u001b[0;34m;\u001b[0m\u001b[0;34m\u001b[0m\u001b[0;34m\u001b[0m\u001b[0m\n\u001b[0m\u001b[1;32m      6\u001b[0m \u001b[0max\u001b[0m\u001b[0;34m.\u001b[0m\u001b[0mset_xlabel\u001b[0m\u001b[0;34m(\u001b[0m\u001b[0;34m'NetSales_IncVAT'\u001b[0m\u001b[0;34m)\u001b[0m\u001b[0;34m;\u001b[0m\u001b[0;34m\u001b[0m\u001b[0;34m\u001b[0m\u001b[0m\n\u001b[1;32m      7\u001b[0m \u001b[0max\u001b[0m\u001b[0;34m.\u001b[0m\u001b[0mset_title\u001b[0m\u001b[0;34m(\u001b[0m\u001b[0;34m'NetSales_IncVAT per Month'\u001b[0m\u001b[0;34m,\u001b[0m \u001b[0mfontsize\u001b[0m\u001b[0;34m=\u001b[0m\u001b[0;36m12\u001b[0m\u001b[0;34m)\u001b[0m\u001b[0;34m\u001b[0m\u001b[0;34m\u001b[0m\u001b[0m\n",
            "\u001b[0;31mAttributeError\u001b[0m: 'numpy.ndarray' object has no attribute 'set_ylabel'"
          ]
        },
        {
          "output_type": "display_data",
          "data": {
            "image/png": "[encoded data removed]",
            "text/plain": [
              "<Figure size 504x288 with 1 Axes>"
            ]
          },
          "metadata": {}
        }
      ]
    },
    {
      "cell_type": "markdown",
      "metadata": {
        "id": "JBdRxc9o-Phz"
      },
      "source": [
        "From the Figure, we can see that the highest monthly purchases are in October **3,794,999.22**, but in general, the differences are subtle."
      ]
    },
    {
      "cell_type": "markdown",
      "metadata": {
        "id": "HLIdYJ_lHdLK"
      },
      "source": [
        "Q3: What are the monthly NetSales_IncVAT for items has promotions comapred by NetSales_IncVAT that hasn't promotions for each customer group?"
      ]
    },
    {
      "cell_type": "code",
      "metadata": {
        "colab": {
          "base_uri": "https://localhost:8080/"
        },
        "id": "WGqhQD2DN8c0",
        "outputId": "06e2705e-843d-4679-9b15-5a551d5af268"
      },
      "source": [
        "df_non_customers_monthly_sales"
      ],
      "execution_count": null,
      "outputs": [
        {
          "output_type": "execute_result",
          "data": {
            "text/plain": [
              "month  bHasPromotions  CustomerGroup\n",
              "9      -1              0                2075585.55\n",
              "                       1                1665416.10\n",
              "        0              0                4458334.51\n",
              "                       1                1863893.95\n",
              "10     -1              0                2270167.46\n",
              "                       1                1849052.40\n",
              "        0              0                4642293.36\n",
              "                       1                1945946.82\n",
              "11     -1              0                2339283.83\n",
              "                       1                1722035.08\n",
              "        0              0                4378473.26\n",
              "                       1                1713524.45\n",
              "12     -1              0                2325268.68\n",
              "                       1                1638025.86\n",
              "        0              0                4385733.32\n",
              "                       1                1649555.08\n",
              "Name: NetSales_IncVAT, dtype: float64"
            ]
          },
          "metadata": {},
          "execution_count": 96
        }
      ]
    },
    {
      "cell_type": "code",
      "metadata": {
        "colab": {
          "base_uri": "https://localhost:8080/",
          "height": 651
        },
        "id": "bHzZfz8yHzm8",
        "outputId": "2124e6ee-767f-4219-81e5-9699fb018e2e"
      },
      "source": [
        "df_non_customers_monthly_sales= df_transactions.groupby(['month','bHasPromotions','CustomerGroup'])['NetSales_IncVAT'].sum()\n",
        "#fig, axis = plt.subplots(figsize=(10,6))\n",
        "axis =df_non_customers_monthly_sales.unstack().plot.bar()\n",
        "axis.set_ylabel('Sum');\n",
        "axis.set_xlabel('Month/bHasPromotions');\n",
        "axis.set_title('NetSales_IncVAT per Month', fontsize=12)\n",
        "axis.legend(loc='best', fontsize=14);\n",
        "df_non_customers_monthly_sales\n",
        "\n"
      ],
      "execution_count": null,
      "outputs": [
        {
          "output_type": "execute_result",
          "data": {
            "text/plain": [
              "month  bHasPromotions  CustomerGroup\n",
              "9      -1              0                2072910.76\n",
              "                       1                1666062.85\n",
              "        0              0                4479839.14\n",
              "                       1                1865372.00\n",
              "10     -1              0                2264883.84\n",
              "                       1                1850637.91\n",
              "        0              0                4669380.19\n",
              "                       1                1948730.01\n",
              "11     -1              0                2337072.95\n",
              "                       1                1722463.83\n",
              "        0              0                4401523.07\n",
              "                       1                1714429.37\n",
              "12     -1              0                2322222.29\n",
              "                       1                1638724.73\n",
              "        0              0                4405246.93\n",
              "                       1                1651619.10\n",
              "Name: NetSales_IncVAT, dtype: float64"
            ]
          },
          "metadata": {},
          "execution_count": 120
        },
        {
          "output_type": "display_data",
          "data": {
            "image/png": "[encoded data removed]",
            "text/plain": [
              "<Figure size 432x288 with 1 Axes>"
            ]
          },
          "metadata": {}
        }
      ]
    },
    {
      "cell_type": "markdown",
      "metadata": {
        "id": "O3eC4obeNjqA"
      },
      "source": [
        "The net sales Include vat for registered customers are nearly the same for items with promotions compared with items that haven't promotions, while the differences are doulbed for those customers who aren't registered. "
      ]
    },
    {
      "cell_type": "code",
      "metadata": {
        "colab": {
          "base_uri": "https://localhost:8080/",
          "height": 973
        },
        "id": "SNiR-YL1Kncl",
        "outputId": "ba88cb95-9612-49e2-970a-94433a55b132"
      },
      "source": [
        "df_non_customers_monthly_sales.plot(kind='box',rot=0, fontsize=12, figsize=(8,10))\n",
        "sns.catplot(x=\"month\", y=\"NetSales_IncVAT\", kind=\"box\", data=df_clean );"
      ],
      "execution_count": null,
      "outputs": [
        {
          "output_type": "display_data",
          "data": {
            "image/png": "[encoded data removed]",
            "text/plain": [
              "<Figure size 576x720 with 1 Axes>"
            ]
          },
          "metadata": {}
        },
        {
          "output_type": "display_data",
          "data": {
            "image/png": "[encoded data removed]",
            "text/plain": [
              "<Figure size 360x360 with 1 Axes>"
            ]
          },
          "metadata": {}
        }
      ]
    },
    {
      "cell_type": "code",
      "metadata": {
        "colab": {
          "base_uri": "https://localhost:8080/",
          "height": 285
        },
        "id": "kWfSABoLUxVS",
        "outputId": "e1ec36e5-e6db-48b7-daee-a4ba09116e50"
      },
      "source": [
        "df_res =df_transactions.groupby(['month','BillNo'])[['NetSales_IncVAT','DiscValue']].sum().plot(kind='line')\n"
      ],
      "execution_count": null,
      "outputs": [
        {
          "output_type": "display_data",
          "data": {
            "image/png": "[encoded data removed]",
            "text/plain": [
              "<Figure size 432x288 with 1 Axes>"
            ]
          },
          "metadata": {}
        }
      ]
    },
    {
      "cell_type": "markdown",
      "metadata": {
        "id": "Dyx6ZyOCDLkJ"
      },
      "source": [
        " Q2: Is there a relationship between Total_Net_InvoiceIncVAT and customer groups?"
      ]
    },
    {
      "cell_type": "code",
      "metadata": {
        "colab": {
          "base_uri": "https://localhost:8080/",
          "height": 362
        },
        "id": "4h22v5zleUfF",
        "outputId": "d5cc063b-ce78-4d06-e0d3-8f6537a024ea"
      },
      "source": [
        "sns.countplot(df_clean.BravoNo)"
      ],
      "execution_count": null,
      "outputs": [
        {
          "name": "stderr",
          "output_type": "stream",
          "text": [
            "/usr/local/lib/python3.7/dist-packages/seaborn/_decorators.py:43: FutureWarning: Pass the following variable as a keyword arg: x. From version 0.12, the only valid positional argument will be `data`, and passing other arguments without an explicit keyword will result in an error or misinterpretation.\n",
            "  FutureWarning\n"
          ]
        },
        {
          "data": {
            "text/plain": [
              "<matplotlib.axes._subplots.AxesSubplot at 0x7fbcf1ee31d0>"
            ]
          },
          "execution_count": 25,
          "metadata": {},
          "output_type": "execute_result"
        },
        {
          "data": {
            "image/png": "[encoded data removed]",
            "text/plain": [
              "<Figure size 432x288 with 1 Axes>"
            ]
          },
          "metadata": {},
          "output_type": "display_data"
        }
      ]
    },
    {
      "cell_type": "code",
      "metadata": {
        "colab": {
          "base_uri": "https://localhost:8080/",
          "height": 297
        },
        "id": "Z9FoKHNdmwL_",
        "outputId": "1953b45e-848b-4c6d-ee19-c0e6ace321b1"
      },
      "source": [
        "sns.boxplot(y=df_clean.cBrutoValue,x=df_clean.BravoNo)"
      ],
      "execution_count": null,
      "outputs": [
        {
          "data": {
            "text/plain": [
              "<matplotlib.axes._subplots.AxesSubplot at 0x7fbcf1e2ccd0>"
            ]
          },
          "execution_count": 27,
          "metadata": {},
          "output_type": "execute_result"
        },
        {
          "data": {
            "image/png": "[encoded data removed]",
            "text/plain": [
              "<Figure size 432x288 with 1 Axes>"
            ]
          },
          "metadata": {},
          "output_type": "display_data"
        }
      ]
    },
    {
      "cell_type": "code",
      "metadata": {
        "colab": {
          "base_uri": "https://localhost:8080/"
        },
        "id": "093SMIQ0jUu2",
        "outputId": "4fa2f139-fe70-4c58-fb51-c0103d30e8d7"
      },
      "source": [
        "df_clean.CashierNo.value_counts()"
      ],
      "execution_count": null,
      "outputs": [
        {
          "data": {
            "text/plain": [
              "649    157260\n",
              "654    130260\n",
              "734    124646\n",
              "835    114157\n",
              "64     112637\n",
              "814    110608\n",
              "736    105655\n",
              "839    105368\n",
              "804    100306\n",
              "845    100230\n",
              "156     99115\n",
              "169     94970\n",
              "175     94889\n",
              "830     89691\n",
              "847     88384\n",
              "61      82998\n",
              "644     81004\n",
              "93      79644\n",
              "696     76667\n",
              "168     75724\n",
              "848     75578\n",
              "593     72303\n",
              "594     72227\n",
              "731     71984\n",
              "173     67893\n",
              "28      65116\n",
              "38      61899\n",
              "171     60325\n",
              "11      59302\n",
              "87      57406\n",
              "849     56816\n",
              "844     55860\n",
              "153     53989\n",
              "738     52363\n",
              "108     51938\n",
              "651     51530\n",
              "176     50838\n",
              "739     46195\n",
              "614     43339\n",
              "662     40349\n",
              "737     37835\n",
              "177     36085\n",
              "30      32063\n",
              "655     27723\n",
              "842     22848\n",
              "97      22106\n",
              "850     20167\n",
              "822     19141\n",
              "843     18060\n",
              "846     14867\n",
              "178     11365\n",
              "96      10610\n",
              "32       6189\n",
              "55       5113\n",
              "672      2207\n",
              "765      2076\n",
              "98       1871\n",
              "Name: CashierNo, dtype: int64"
            ]
          },
          "execution_count": 31,
          "metadata": {},
          "output_type": "execute_result"
        }
      ]
    },
    {
      "cell_type": "code",
      "metadata": {
        "colab": {
          "base_uri": "https://localhost:8080/"
        },
        "id": "36AxfKMub0VG",
        "outputId": "c4a0962f-bffd-4b02-af8d-a4610814866b"
      },
      "source": [
        "monthly_pym= df_clean.groupby('month')\n",
        "monthly_pym['NetSales_IncVAT'].sum()"
      ],
      "execution_count": null,
      "outputs": [
        {
          "output_type": "execute_result",
          "data": {
            "text/plain": [
              "month\n",
              "9     10063230.11\n",
              "10    10707460.04\n",
              "11    10153316.62\n",
              "12     9998582.94\n",
              "Name: NetSales_IncVAT, dtype: float64"
            ]
          },
          "metadata": {},
          "execution_count": 20
        }
      ]
    },
    {
      "cell_type": "code",
      "metadata": {
        "colab": {
          "base_uri": "https://localhost:8080/",
          "height": 387
        },
        "id": "TsWkqZOrDmMp",
        "outputId": "8d51e788-562c-4aee-97f4-2948e20c81f7"
      },
      "source": [
        "#sns.regplot(df_clean.bHasPromotions, df_clean.CustomerGroup)\n",
        "sns.FacetGrid(data=df_clean,height=5).map(sns.histplot,\"Total_Net_InvoiceIncVAT\").add_legend()"
      ],
      "execution_count": null,
      "outputs": [
        {
          "data": {
            "text/plain": [
              "<seaborn.axisgrid.FacetGrid at 0x7efd54f47790>"
            ]
          },
          "execution_count": 8,
          "metadata": {},
          "output_type": "execute_result"
        },
        {
          "data": {
            "image/png": "[encoded data removed]",
            "text/plain": [
              "<Figure size 368x360 with 1 Axes>"
            ]
          },
          "metadata": {},
          "output_type": "display_data"
        }
      ]
    },
    {
      "cell_type": "code",
      "metadata": {
        "colab": {
          "background_save": true
        },
        "id": "3AnPDifqEAMH",
        "outputId": "0929b50a-32ca-4caf-9591-da12db8ec9f2"
      },
      "source": [
        "sns.boxplot(x=df_clean.Total_Net_InvoiceIncVAT, y=df_clean.CustomerGroup)"
      ],
      "execution_count": null,
      "outputs": [
        {
          "data": {
            "text/plain": [
              "<matplotlib.axes._subplots.AxesSubplot at 0x7fbcef268ad0>"
            ]
          },
          "execution_count": null,
          "metadata": {},
          "output_type": "execute_result"
        },
        {
          "data": {
            "image/png": "[encoded data removed]",
            "text/plain": [
              "<Figure size 432x288 with 1 Axes>"
            ]
          },
          "metadata": {},
          "output_type": "display_data"
        }
      ]
    },
    {
      "cell_type": "code",
      "metadata": {
        "colab": {
          "base_uri": "https://localhost:8080/"
        },
        "id": "x1z0f_S_f6nE",
        "outputId": "5a152ac1-57ed-4be3-e0d5-ed1bf0916a64"
      },
      "source": [
        "df_clean.hist(figsize=(20,20))"
      ],
      "execution_count": null,
      "outputs": [
        {
          "data": {
            "text/plain": [
              "array([[<matplotlib.axes._subplots.AxesSubplot object at 0x7f6d34517290>,\n",
              "        <matplotlib.axes._subplots.AxesSubplot object at 0x7f6d344de8d0>,\n",
              "        <matplotlib.axes._subplots.AxesSubplot object at 0x7f6d34493f50>,\n",
              "        <matplotlib.axes._subplots.AxesSubplot object at 0x7f6d34456610>],\n",
              "       [<matplotlib.axes._subplots.AxesSubplot object at 0x7f6d3448bc90>,\n",
              "        <matplotlib.axes._subplots.AxesSubplot object at 0x7f6d3444e350>,\n",
              "        <matplotlib.axes._subplots.AxesSubplot object at 0x7f6d345ba5d0>,\n",
              "        <matplotlib.axes._subplots.AxesSubplot object at 0x7f6d343d7410>],\n",
              "       [<matplotlib.axes._subplots.AxesSubplot object at 0x7f6d343d72d0>,\n",
              "        <matplotlib.axes._subplots.AxesSubplot object at 0x7f6d3d23c050>,\n",
              "        <matplotlib.axes._subplots.AxesSubplot object at 0x7f6d34372cd0>,\n",
              "        <matplotlib.axes._subplots.AxesSubplot object at 0x7f6d34332390>],\n",
              "       [<matplotlib.axes._subplots.AxesSubplot object at 0x7f6d342e8a50>,\n",
              "        <matplotlib.axes._subplots.AxesSubplot object at 0x7f6d342aa110>,\n",
              "        <matplotlib.axes._subplots.AxesSubplot object at 0x7f6d34260790>,\n",
              "        <matplotlib.axes._subplots.AxesSubplot object at 0x7f6d34215e10>],\n",
              "       [<matplotlib.axes._subplots.AxesSubplot object at 0x7f6d341d94d0>,\n",
              "        <matplotlib.axes._subplots.AxesSubplot object at 0x7f6d3420fb50>,\n",
              "        <matplotlib.axes._subplots.AxesSubplot object at 0x7f6d341d2210>,\n",
              "        <matplotlib.axes._subplots.AxesSubplot object at 0x7f6d34188890>]],\n",
              "      dtype=object)"
            ]
          },
          "execution_count": 16,
          "metadata": {},
          "output_type": "execute_result"
        }
      ]
    },
    {
      "cell_type": "code",
      "metadata": {
        "id": "fLcJXWFFJ0Z4"
      },
      "source": [
        "df_clean.corr()"
      ],
      "execution_count": null,
      "outputs": []
    },
    {
      "cell_type": "code",
      "metadata": {
        "id": "2nrXxcMCNQrn"
      },
      "source": [
        "df_items.shape"
      ],
      "execution_count": null,
      "outputs": []
    },
    {
      "cell_type": "code",
      "metadata": {
        "id": "m9Em7qMQNbEO"
      },
      "source": [
        "df_items.describe()"
      ],
      "execution_count": null,
      "outputs": []
    },
    {
      "cell_type": "code",
      "metadata": {
        "id": "a29RXjNlDpez"
      },
      "source": [
        "df_items.isnull().any()"
      ],
      "execution_count": null,
      "outputs": []
    },
    {
      "cell_type": "code",
      "metadata": {
        "id": "38moLHqJHHLX"
      },
      "source": [
        "df_netsales =df_customers [['dItemInternalKey','ItemName','BillNo','OfferNo','NetSales_IncVAT','bHasPromotions']]\n",
        "total_sales =df_netsales.NetSales_IncVAT.sum()\n",
        "total_sales"
      ],
      "execution_count": null,
      "outputs": []
    },
    {
      "cell_type": "code",
      "metadata": {
        "id": "d49MJ-XjICiw"
      },
      "source": [
        "df_netsales_offer =df_customers [['dItemInternalKey','ItemName','BillNo','OfferNo','TotalBeforeDisc',\t'DiscValue','NetSales_IncVAT','bHasPromotions']]\n",
        "df_netsales_offer =df_netsales_offer[df_netsales_offer.bHasPromotions ==-1]\n",
        "total_sales_with_offer = df_netsales_offer.NetSales_IncVAT.sum()\n",
        "total_sales_with_offer"
      ],
      "execution_count": null,
      "outputs": []
    },
    {
      "cell_type": "markdown",
      "metadata": {
        "id": "Bc18w67aMDC5"
      },
      "source": [
        "### **Q4: What are the items count with promotion/ items without promotion?** \n",
        "\n",
        "for each bill?"
      ]
    },
    {
      "cell_type": "code",
      "metadata": {
        "id": "qFYUTFocLLuo"
      },
      "source": [
        "df_bell_items_group = df_netsales.groupby(['BillNo', 'bHasPromotions'])\n",
        "\n",
        "df_bell_items_group['ItemName'].count()"
      ],
      "execution_count": null,
      "outputs": []
    },
    {
      "cell_type": "markdown",
      "metadata": {
        "id": "nWJIoganMwEg"
      },
      "source": [
        "### **Q5: What are the Net Sales sum for items with promotion/ items without promotion in each bill?**"
      ]
    },
    {
      "cell_type": "code",
      "metadata": {
        "id": "kC6zXcWRMk9B"
      },
      "source": [
        "df_bell_items_group['NetSales_IncVAT'].sum()"
      ],
      "execution_count": null,
      "outputs": []
    },
    {
      "cell_type": "code",
      "metadata": {
        "id": "tkmExzhdQfc_"
      },
      "source": [
        "df_netsales['item 0'] =df_netsales [df_netsales.bHasPromotions == 0]['ItemName']\n",
        "df_netsales['item -1'] =df_netsales [df_netsales.bHasPromotions == -1]['ItemName']\n",
        "df_netsales"
      ],
      "execution_count": null,
      "outputs": []
    },
    {
      "cell_type": "code",
      "metadata": {
        "id": "W6CZy2kZSZT4"
      },
      "source": [
        "df_netsales[df_netsales.OfferNo ==15016 ]"
      ],
      "execution_count": null,
      "outputs": []
    },
    {
      "cell_type": "markdown",
      "metadata": {
        "id": "E5B4KfjQS649"
      },
      "source": [
        "### **Q6: What are the items per offer?** / **What are the Number of times the item was purchsed?**"
      ]
    },
    {
      "cell_type": "code",
      "metadata": {
        "id": "YGxEyIsIS_Mb"
      },
      "source": [
        "df_offer_group =df_netsales.groupby('OfferNo')\n",
        "df_item_per_offer =df_offer_group['ItemName'].value_counts()\n",
        "df_item_per_offer.sort_index()"
      ],
      "execution_count": null,
      "outputs": []
    },
    {
      "cell_type": "code",
      "metadata": {
        "id": "4UMCeE1TWIhb"
      },
      "source": [
        "df_customers [df_customers.OfferNo == 16346] # List of items for offer number 16346 "
      ],
      "execution_count": null,
      "outputs": []
    },
    {
      "cell_type": "markdown",
      "metadata": {
        "id": "qkgEBR1UXMfi"
      },
      "source": [
        "### **Q7: Is there any item that included in more than one offer?**"
      ]
    },
    {
      "cell_type": "code",
      "metadata": {
        "id": "g15IRGsOXZ-X"
      },
      "source": [
        "df_item_group =df_netsales.groupby('ItemName')\n",
        "df_offer_per_item =df_item_group['OfferNo'].value_counts()\n",
        "df_offer_per_item"
      ],
      "execution_count": null,
      "outputs": []
    },
    {
      "cell_type": "code",
      "metadata": {
        "id": "aPd1TcRLX1Et"
      },
      "source": [
        "df_clean [df_clean.OfferNo == 0]['CustomerGroup'].unique() # Offer No zero is related to both Customer Groups"
      ],
      "execution_count": null,
      "outputs": []
    },
    {
      "cell_type": "markdown",
      "metadata": {
        "id": "dgPFGT7H9qkL"
      },
      "source": [
        "### Q8: What are the top relatead items (bought togther)?"
      ]
    },
    {
      "cell_type": "code",
      "metadata": {
        "id": "sLPjHoDbBW63"
      },
      "source": [
        "df_billNo_with_offer = df_netsales[df_netsales.bHasPromotions ==-1]\n",
        "df_billNo_without_offer = df_netsales[df_netsales.bHasPromotions ==0]\n",
        "df_billNo_with_offer.shape[0]\n"
      ],
      "execution_count": null,
      "outputs": []
    },
    {
      "cell_type": "code",
      "metadata": {
        "id": "ZyXG5U5KPl-A"
      },
      "source": [
        "df_billNo_without_offer.shape[0]"
      ],
      "execution_count": null,
      "outputs": []
    },
    {
      "cell_type": "code",
      "metadata": {
        "id": "XhbZPPthQdSC"
      },
      "source": [
        "df_billNo_cross = pd.merge(df_billNo_with_offer, df_billNo_without_offer, on=['BillNo'], how=\"left\", indicator=True)\n",
        "#df = df[df['_merge'] == 'left_only']\n",
        "df_billNo_cross.shape[0]"
      ],
      "execution_count": null,
      "outputs": []
    },
    {
      "cell_type": "code",
      "metadata": {
        "id": "_P-DI4BZSOKf"
      },
      "source": [
        "#df_billNo_cross.head()\n",
        "df=df_billNo_cross[ df_billNo_cross.BillNo == 3]\n",
        "df=df[df.OfferNo_x==9786]\n",
        "df"
      ],
      "execution_count": null,
      "outputs": []
    },
    {
      "cell_type": "code",
      "metadata": {
        "id": "oZDsK3uYWdaN"
      },
      "source": [
        "df_billNo_cross.pivot_table(values='dItemInternalKey_y', index='ItemName_x', columns=['ItemName_y'], aggfunc='count',  fill_value=0)\n"
      ],
      "execution_count": null,
      "outputs": []
    },
    {
      "cell_type": "code",
      "metadata": {
        "id": "aatLU3FzWFmr"
      },
      "source": [
        "df_billNo_cross.groupby(['ItemName_y', 'bHasPromotions_y'])['dItemInternalKey_y'].count().unstack().fillna(0)"
      ],
      "execution_count": null,
      "outputs": []
    },
    {
      "cell_type": "code",
      "metadata": {
        "id": "6Pl3MCvnBzrz"
      },
      "source": [
        "df_crossed_data=pd.crosstab([ df_billNo_cross.ItemName_y, df_billNo_cross.bHasPromotions_y], [df_billNo_cross.ItemName_x] ,values=df_billNo_cross.dItemInternalKey_y, aggfunc='count').round(0)\n",
        "\n",
        "df_crossed_data"
      ],
      "execution_count": null,
      "outputs": []
    },
    {
      "cell_type": "markdown",
      "metadata": {
        "id": "qM40rLhNJY54"
      },
      "source": [
        "### Q9 :What are the related items bought by customers?\n"
      ]
    },
    {
      "cell_type": "code",
      "metadata": {
        "id": "oOGsQc09JcYi"
      },
      "source": [
        ""
      ],
      "execution_count": null,
      "outputs": []
    },
    {
      "cell_type": "markdown",
      "metadata": {
        "id": "GBit94b-b_Yb"
      },
      "source": [
        ""
      ]
    },
    {
      "cell_type": "markdown",
      "metadata": {
        "id": "WbMTIFjMJhZL"
      },
      "source": [
        "### Q10 :What is the relation between item discount percentage and number of payments?"
      ]
    },
    {
      "cell_type": "code",
      "metadata": {
        "id": "EhKiX5EtJmfg"
      },
      "source": [
        "\n"
      ],
      "execution_count": null,
      "outputs": []
    },
    {
      "cell_type": "markdown",
      "metadata": {
        "id": "GagaOf16JpS-"
      },
      "source": [
        "### Q11: What are the frequent items for each customer in all orders?"
      ]
    },
    {
      "cell_type": "code",
      "metadata": {
        "id": "MOCl6RatJrOU"
      },
      "source": [
        "df_cstuomer_grp = df_customers.groupby(['CustomerNo' ,'ItemName'])\n",
        "#df_customer_items =df_cstuomer_grp['ItemName'].value_counts()\n",
        "type(df_customer_items)\n",
        "df_customer_items.nlargest(1)"
      ],
      "execution_count": null,
      "outputs": []
    },
    {
      "cell_type": "code",
      "metadata": {
        "id": "urwgzUimbIxj"
      },
      "source": [
        "print(f\"Output \\n *** Method 2 - Using Group By\")\n",
        "df_customers.groupby(['CustomerNo','ItemName'], as_index=False).apply(lambda df:df.sort_values(\"ItemName\", ascending=False)\n",
        ".head(1)).droplevel(0).sort_values(\"CustomerNo\", ascending=False)"
      ],
      "execution_count": null,
      "outputs": []
    },
    {
      "cell_type": "code",
      "metadata": {
        "id": "LMO7lZ2uYcgs"
      },
      "source": [
        "df_cstuomer_grp = df_customers.groupby(['CustomerNo','ItemName'])\n",
        "df_customer_items =df_cstuomer_grp['dItemInternalKey'].count()\n",
        "df_customer_items.max(\n",
        "#type(df_customer_items)\n",
        "#df_customer_items.nlargest(1)"
      ],
      "execution_count": null,
      "outputs": []
    },
    {
      "cell_type": "code",
      "metadata": {
        "id": "MgEKQtPxNOp3"
      },
      "source": [
        "\n",
        "df_customers.groupby('CustomerNo')['ItemName'].max().reset_index().sort_values(['ItemName'], ascending=False)\n"
      ],
      "execution_count": null,
      "outputs": []
    },
    {
      "cell_type": "code",
      "metadata": {
        "id": "bUIDjKD5PFJw"
      },
      "source": [
        "(df_customers.groupby('CustomerNo')['ItemName']\n",
        "   .agg(lambda x: x.value_counts().loc[x.max()])\n",
        "   .to_frame(name='count_max')\n",
        "   .astype(int)\n",
        "   .reset_index()\n",
        ")"
      ],
      "execution_count": null,
      "outputs": []
    },
    {
      "cell_type": "code",
      "metadata": {
        "id": "yHW2pgpMM9jm"
      },
      "source": [
        "df_customer_items.loc[614701]"
      ],
      "execution_count": null,
      "outputs": []
    },
    {
      "cell_type": "code",
      "metadata": {
        "id": "sqkYXarBMHuz"
      },
      "source": [
        "df_cross= pd.crosstab(index=df_customers['CustomerNo'],columns=df_customers['ItemName'],values=df_customers['dItemInternalKey'], aggfunc='count')\n",
        "df_cross"
      ],
      "execution_count": null,
      "outputs": []
    }
  ]
}